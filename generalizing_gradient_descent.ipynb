{
  "nbformat": 4,
  "nbformat_minor": 0,
  "metadata": {
    "colab": {
      "name": "generalizing-gradient-descent.ipynb",
      "provenance": [],
      "toc_visible": true,
      "include_colab_link": true
    },
    "kernelspec": {
      "name": "python3",
      "display_name": "Python 3"
    }
  },
  "cells": [
    {
      "cell_type": "markdown",
      "metadata": {
        "id": "view-in-github",
        "colab_type": "text"
      },
      "source": [
        "<a href=\"https://colab.research.google.com/github/rahiakela/grokking-deep-learning/blob/5-generalizing-gradient-descent/generalizing_gradient_descent.ipynb\" target=\"_parent\"><img src=\"https://colab.research.google.com/assets/colab-badge.svg\" alt=\"Open In Colab\"/></a>"
      ]
    },
    {
      "cell_type": "markdown",
      "metadata": {
        "id": "I908rvvroG-6",
        "colab_type": "text"
      },
      "source": [
        "# learning multiple weights at a time: generalizing gradient descent"
      ]
    },
    {
      "cell_type": "markdown",
      "metadata": {
        "id": "mvrYi4GFoJ1X",
        "colab_type": "text"
      },
      "source": [
        "## Gradient descent learning with multiple inputs\n",
        "**Gradient descent also works with multiple inputs**"
      ]
    },
    {
      "cell_type": "markdown",
      "metadata": {
        "id": "85Ddmk57oO12",
        "colab_type": "text"
      },
      "source": [
        "We’ll more or less reveal how the same techniques can be used to update a\n",
        "network that contains multiple weights. Let’s start by jumping in the deep end, shall we?\n",
        "\n",
        "<img src='https://github.com/rahiakela/img-repo/blob/master/gradient-descent-multiple-inputs-1.JPG?raw=1' width='800'/>\n"
      ]
    },
    {
      "cell_type": "code",
      "metadata": {
        "id": "3Sz8zWj9ovH0",
        "colab_type": "code",
        "colab": {}
      },
      "source": [
        "def w_sum(a, b):\n",
        "  assert(len(a) == len(b))\n",
        "\n",
        "  output = 0\n",
        "  for i in range(len(a)):\n",
        "    output += (a[i] * b[i])\n",
        "  return output\n",
        "\n",
        "weights = [0.1, 0.2, -0.1]\n",
        "\n",
        "def neural_network(input, weights):\n",
        "  pred = w_sum(input, weights)\n",
        "  return pred"
      ],
      "execution_count": 0,
      "outputs": []
    },
    {
      "cell_type": "markdown",
      "metadata": {
        "id": "12GX4ZkxphIk",
        "colab_type": "text"
      },
      "source": [
        "<img src='https://github.com/rahiakela/img-repo/blob/master/gradient-descent-multiple-inputs-2.JPG?raw=1' width='800'/>"
      ]
    },
    {
      "cell_type": "code",
      "metadata": {
        "id": "yr2Va4Ulpb70",
        "colab_type": "code",
        "outputId": "07fc731e-12ec-44b1-ac2d-3db55e295769",
        "colab": {
          "base_uri": "https://localhost:8080/",
          "height": 0
        }
      },
      "source": [
        "toes = [8.5 , 9.5, 9.9, 9.0]\n",
        "wlrec = [0.65, 0.8, 0.8, 0.9]\n",
        "nfans = [1.2 , 1.3, 0.5, 1.0]\n",
        "\n",
        "win_or_lose_binary = [1, 1, 0, 1]\n",
        "true = win_or_lose_binary[0]\n",
        "\n",
        "input = [toes[0], wlrec[0], nfans[0]]\n",
        "\n",
        "pred = neural_network(input, weights)\n",
        "print(f'Prediction: {str(pred)}')\n",
        "\n",
        "error = (pred - true) ** 2\n",
        "print(f'Error: {str(error)}')\n",
        "\n",
        "delta = pred - true\n",
        "print(f'Delta: {str(delta)}')"
      ],
      "execution_count": 2,
      "outputs": [
        {
          "output_type": "stream",
          "text": [
            "Prediction: 0.8600000000000001\n",
            "Error: 0.01959999999999997\n",
            "Delta: -0.1399999999999999\n"
          ],
          "name": "stdout"
        }
      ]
    },
    {
      "cell_type": "markdown",
      "metadata": {
        "id": "uY0qCdcRqsZy",
        "colab_type": "text"
      },
      "source": [
        "<img src='https://github.com/rahiakela/img-repo/blob/master/gradient-descent-multiple-inputs-3.JPG?raw=1' width='800'/>"
      ]
    },
    {
      "cell_type": "code",
      "metadata": {
        "id": "DL_iCSf5qV4b",
        "colab_type": "code",
        "outputId": "d440f54b-07a6-4062-9226-5f7fe6950f10",
        "colab": {
          "base_uri": "https://localhost:8080/",
          "height": 0
        }
      },
      "source": [
        "def ele_mul(number, vector):\n",
        "  output = [0, 0, 0]\n",
        "\n",
        "  assert(len(output) == len(vector))\n",
        "\n",
        "  for i in range(len(vector)):\n",
        "    output[i] = number * vector[i]\n",
        "\n",
        "  return output\n",
        "\n",
        "input = [toes[0], wlrec[0], nfans[0]]\n",
        "\n",
        "pred = neural_network(input, weights)\n",
        "print(f'Prediction: {str(pred)}')\n",
        "\n",
        "error = (pred - true) ** 2\n",
        "print(f'Error: {str(error)}')\n",
        "\n",
        "delta = pred - true\n",
        "print(f'Delta: {str(delta)}')\n",
        "\n",
        "weight_deltas = ele_mul(delta, input)\n",
        "for wd in weight_deltas:\n",
        "  print(f'Weight Delta: {str(wd)}')"
      ],
      "execution_count": 3,
      "outputs": [
        {
          "output_type": "stream",
          "text": [
            "Prediction: 0.8600000000000001\n",
            "Error: 0.01959999999999997\n",
            "Delta: -0.1399999999999999\n",
            "Weight Delta: -1.189999999999999\n",
            "Weight Delta: -0.09099999999999994\n",
            "Weight Delta: -0.16799999999999987\n"
          ],
          "name": "stdout"
        }
      ]
    },
    {
      "cell_type": "markdown",
      "metadata": {
        "id": "cevlWPUGsQzK",
        "colab_type": "text"
      },
      "source": [
        "There’s nothing new in this diagram. Each weight_delta is calculated by taking its output\n",
        "delta and multiplying it by its input. In this case, because the three weights share the same\n",
        "output node, they also share that node’s delta. But the weights have different weight deltas\n",
        "owing to their different input values. Notice further that you can reuse the ele_mul function\n",
        "from before, because you’re multiplying each value in weights by the same value delta.\n",
        "\n",
        "<img src='https://github.com/rahiakela/img-repo/blob/master/gradient-descent-multiple-inputs-4.JPG?raw=1' width='800'/>"
      ]
    },
    {
      "cell_type": "code",
      "metadata": {
        "id": "YnfSc0zYrokw",
        "colab_type": "code",
        "outputId": "19e04085-ec0b-479b-a59a-3457651cf0f8",
        "colab": {
          "base_uri": "https://localhost:8080/",
          "height": 0
        }
      },
      "source": [
        "input = [toes[0], wlrec[0], nfans[0]]\n",
        "\n",
        "pred = neural_network(input, weights)\n",
        "\n",
        "error = (pred - true) ** 2\n",
        "\n",
        "delta = pred - true\n",
        "\n",
        "weight_deltas = ele_mul(delta, input)\n",
        "\n",
        "alpha = 0.01\n",
        "\n",
        "for i in range(len(weights)):\n",
        "  weights[i] -= alpha * weight_deltas[i]\n",
        "print(f'Weights: {str(weights)}')\n",
        "print(f'Weight Deltas: {str(weight_deltas)}')  "
      ],
      "execution_count": 4,
      "outputs": [
        {
          "output_type": "stream",
          "text": [
            "Weights: [0.1119, 0.20091, -0.09832]\n",
            "Weight Deltas: [-1.189999999999999, -0.09099999999999994, -0.16799999999999987]\n"
          ],
          "name": "stdout"
        }
      ]
    },
    {
      "cell_type": "markdown",
      "metadata": {
        "id": "k7Jx3Te5_jJE",
        "colab_type": "text"
      },
      "source": [
        "## Let’s watch several steps of learning"
      ]
    },
    {
      "cell_type": "code",
      "metadata": {
        "id": "ODBtQz78tFKc",
        "colab_type": "code",
        "outputId": "cdd0d8b1-b0cc-479f-c4cd-06dfc560f3a9",
        "colab": {
          "base_uri": "https://localhost:8080/",
          "height": 0
        }
      },
      "source": [
        "def neural_network(input, weights):\n",
        "  output = 0\n",
        "  for i in range(len(input)):\n",
        "    output += (input[i] * weights[i])\n",
        "  return output\n",
        "\n",
        "def ele_mul(scalar, vector):\n",
        "  output = [0, 0, 0]\n",
        "  for i in range(len(output)):\n",
        "    output[i] = vector[i] * scalar\n",
        "  return output\n",
        "\n",
        "toes = [8.5 , 9.5, 9.9, 9.0]\n",
        "wlrec = [0.65, 0.8, 0.8, 0.9]\n",
        "nfans = [1.2 , 1.3, 0.5, 1.0]     \n",
        "\n",
        "win_or_lose_binary = [1, 1, 0, 1]\n",
        "true = win_or_lose_binary[0]\n",
        "\n",
        "alpha = 0.01\n",
        "weights = [0.1, 0.2, -.1]\n",
        "input = [toes[0], wlrec[0], nfans[0]]\n",
        "\n",
        "for iter in range(3):\n",
        "  pred = neural_network(input, weights)\n",
        "\n",
        "  error = (pred - true) ** 2\n",
        "  delta = pred - true\n",
        "\n",
        "  weight_deltas = ele_mul(delta, input)\n",
        "\n",
        "  print(f'Iteration: {str(iter + 1)}')\n",
        "  print(f'Prediction: {str(pred)}')\n",
        "  print(f'Error: {str(error)}')\n",
        "  print(f'Delta: {str(delta)}')\n",
        "  print(f'Weights: {str(weights)}')\n",
        "  print(f'Weight_Deltas:')\n",
        "  print(str(weight_deltas))\n",
        "  print()\n",
        "\n",
        "for i in range(len(weights)):\n",
        "  weights[i] -= alpha * weight_deltas[i]  "
      ],
      "execution_count": 5,
      "outputs": [
        {
          "output_type": "stream",
          "text": [
            "Iteration: 1\n",
            "Prediction: 0.8600000000000001\n",
            "Error: 0.01959999999999997\n",
            "Delta: -0.1399999999999999\n",
            "Weights: [0.1, 0.2, -0.1]\n",
            "Weight_Deltas:\n",
            "[-1.189999999999999, -0.09099999999999994, -0.16799999999999987]\n",
            "\n",
            "Iteration: 2\n",
            "Prediction: 0.8600000000000001\n",
            "Error: 0.01959999999999997\n",
            "Delta: -0.1399999999999999\n",
            "Weights: [0.1, 0.2, -0.1]\n",
            "Weight_Deltas:\n",
            "[-1.189999999999999, -0.09099999999999994, -0.16799999999999987]\n",
            "\n",
            "Iteration: 3\n",
            "Prediction: 0.8600000000000001\n",
            "Error: 0.01959999999999997\n",
            "Delta: -0.1399999999999999\n",
            "Weights: [0.1, 0.2, -0.1]\n",
            "Weight_Deltas:\n",
            "[-1.189999999999999, -0.09099999999999994, -0.16799999999999987]\n",
            "\n"
          ],
          "name": "stdout"
        }
      ]
    },
    {
      "cell_type": "markdown",
      "metadata": {
        "id": "KOwjq4rtEz2y",
        "colab_type": "text"
      },
      "source": [
        "<img src='https://github.com/rahiakela/img-repo/blob/master/grokking-deep-learning/iteration-1.JPG?raw=1' width='800'/>\n",
        "\n",
        "We can make three individual error/weight curves, one for each weight. As before, the slopes\n",
        "of these curves (the dotted lines) are reflected by the weight_delta values. Notice that **a** is\n",
        "steeper than the others. Why is weight_delta steeper for **a** than the others if they share the\n",
        "same output delta and error measure? Because **a** has an input value that’s significantly\n",
        "higher than the others and thus, a higher derivative.\n",
        "\n",
        "<img src='https://github.com/rahiakela/img-repo/blob/master/grokking-deep-learning/iteration-2.JPG?raw=1' width='800'/>\n",
        "\n",
        "<img src='https://github.com/rahiakela/img-repo/blob/master/grokking-deep-learning/iteration-3.JPG?raw=1' width='800'/>\n",
        "\n",
        "Most of the learning (weight changing) was performed\n",
        "on the weight with the largest input **a** , because the input changes the slope significantly.\n",
        "This isn’t necessarily advantageous in all settings. A subfield called normalization helps\n",
        "encourage learning across all weights despite dataset characteristics such as this. This\n",
        "significant difference in slope forced me to set alpha lower than I wanted (0.01 instead of\n",
        "0.1). Try setting alpha to 0.1: do you see how **a**a causes it to diverge?"
      ]
    },
    {
      "cell_type": "markdown",
      "metadata": {
        "id": "1YKezjBPG_fB",
        "colab_type": "text"
      },
      "source": [
        "## Freezing one weight: What does it do?"
      ]
    },
    {
      "cell_type": "markdown",
      "metadata": {
        "id": "oM07AKvLHBSm",
        "colab_type": "text"
      },
      "source": [
        "This experiment is a bit advanced in terms of theory, but I think it’s a great exercise to\n",
        "understand how the weights affect each other. You’re going to train again, except weight **a**\n",
        "won’t ever be adjusted. You’ll try to learn the training example using only weights **b** and **c**\n",
        "(weights[1] and weights[2])."
      ]
    },
    {
      "cell_type": "code",
      "metadata": {
        "id": "NkNt4VRGEf6A",
        "colab_type": "code",
        "outputId": "30d67ae2-bd05-4c99-a763-3910e220bb16",
        "colab": {
          "base_uri": "https://localhost:8080/",
          "height": 0
        }
      },
      "source": [
        "def neural_network(input, weights):\n",
        "  output = 0\n",
        "  for i in range(len(input)):\n",
        "    output += (input[i] * weights[i])\n",
        "  return output\n",
        "\n",
        "def ele_mul(scalar, vector):\n",
        "  output = [0, 0, 0]\n",
        "  for i in range(len(output)):\n",
        "    output[i] = vector[i] * scalar\n",
        "  return output\n",
        "\n",
        "toes = [8.5 , 9.5, 9.9, 9.0]\n",
        "wlrec = [0.65, 0.8, 0.8, 0.9]\n",
        "nfans = [1.2 , 1.3, 0.5, 1.0]     \n",
        "\n",
        "win_or_lose_binary = [1, 1, 0, 1]\n",
        "true = win_or_lose_binary[0]\n",
        "\n",
        "alpha = 0.3\n",
        "weights = [0.1, 0.2, -.1]\n",
        "input = [toes[0], wlrec[0], nfans[0]]\n",
        "\n",
        "for iter in range(3):\n",
        "  pred = neural_network(input, weights)\n",
        "\n",
        "  error = (pred - true) ** 2\n",
        "  delta = pred - true\n",
        "\n",
        "  weight_deltas = ele_mul(delta, input)\n",
        "  weight_deltas[0] = 0\n",
        "\n",
        "  print(f'Iteration: {str(iter + 1)}')\n",
        "  print(f'Prediction: {str(pred)}')\n",
        "  print(f'Error: {str(error)}')\n",
        "  print(f'Delta: {str(delta)}')\n",
        "  print(f'Weights: {str(weights)}')\n",
        "  print(f'Weight_Deltas:')\n",
        "  print(str(weight_deltas))\n",
        "  print()\n",
        "\n",
        "for i in range(len(weights)):\n",
        "  weights[i] -= alpha * weight_deltas[i]"
      ],
      "execution_count": 6,
      "outputs": [
        {
          "output_type": "stream",
          "text": [
            "Iteration: 1\n",
            "Prediction: 0.8600000000000001\n",
            "Error: 0.01959999999999997\n",
            "Delta: -0.1399999999999999\n",
            "Weights: [0.1, 0.2, -0.1]\n",
            "Weight_Deltas:\n",
            "[0, -0.09099999999999994, -0.16799999999999987]\n",
            "\n",
            "Iteration: 2\n",
            "Prediction: 0.8600000000000001\n",
            "Error: 0.01959999999999997\n",
            "Delta: -0.1399999999999999\n",
            "Weights: [0.1, 0.2, -0.1]\n",
            "Weight_Deltas:\n",
            "[0, -0.09099999999999994, -0.16799999999999987]\n",
            "\n",
            "Iteration: 3\n",
            "Prediction: 0.8600000000000001\n",
            "Error: 0.01959999999999997\n",
            "Delta: -0.1399999999999999\n",
            "Weights: [0.1, 0.2, -0.1]\n",
            "Weight_Deltas:\n",
            "[0, -0.09099999999999994, -0.16799999999999987]\n",
            "\n"
          ],
          "name": "stdout"
        }
      ]
    },
    {
      "cell_type": "markdown",
      "metadata": {
        "id": "wUniydpEznRe",
        "colab_type": "text"
      },
      "source": [
        "<img src='https://github.com/rahiakela/img-repo/blob/master/grokking-deep-learning/freezing-weight-1.JPG?raw=1' width='800'/>\n",
        "\n",
        "<img src='https://github.com/rahiakela/img-repo/blob/master/grokking-deep-learning/freezing-weight-2.JPG?raw=1' width='800'/>\n",
        "\n",
        "error is determined by the training data. Any network can have any weight value, but\n",
        "the value of error given any particular weight configuration is 100% determined by data.\n",
        "You’ve already seen how the steepness of the U shape is affected by the input data (on\n",
        "several occasions). What you’re really trying to do with the neural network is find the\n",
        "lowest point on this big error plane, where the lowest point refers to the lowest error.\n",
        "\n"
      ]
    },
    {
      "cell_type": "markdown",
      "metadata": {
        "id": "GlcliHHm0FB1",
        "colab_type": "text"
      },
      "source": [
        "## Gradient descent learning with multiple outputs"
      ]
    },
    {
      "cell_type": "markdown",
      "metadata": {
        "id": "ElRvuvhJ0GOD",
        "colab_type": "text"
      },
      "source": [
        "**Neural networks can also make multiple predictions using only\n",
        "a single input.**"
      ]
    },
    {
      "cell_type": "markdown",
      "metadata": {
        "id": "mO6KybUcTOMB",
        "colab_type": "text"
      },
      "source": [
        "Perhaps this will seem a bit obvious. You calculate each delta the same way and then\n",
        "multiply them all by the same, single input. This becomes each weight’s weight_delta.\n",
        "At this point, I hope it’s clear that a simple mechanism (stochastic gradient descent) is\n",
        "consistently used to perform learning across a wide variety of architectures."
      ]
    },
    {
      "cell_type": "markdown",
      "metadata": {
        "id": "RAEfAkoXTnbh",
        "colab_type": "text"
      },
      "source": [
        "### 1- An empty network with multiple outputs"
      ]
    },
    {
      "cell_type": "markdown",
      "metadata": {
        "id": "Eq_-s03rTzj2",
        "colab_type": "text"
      },
      "source": [
        "<img src='https://github.com/rahiakela/img-repo/blob/master/grokking-deep-learning/gradient-descent-multiple-outputs-1.JPG?raw=1' width='800'/>"
      ]
    },
    {
      "cell_type": "code",
      "metadata": {
        "id": "MLcsjYf6rNPN",
        "colab_type": "code",
        "colab": {}
      },
      "source": [
        "weights = [0.3, 0.2, 0.9]\n",
        "\n",
        "def neural_network(input, weights):\n",
        "  pred = ele_mul(input, weights)\n",
        "\n",
        "  return pred"
      ],
      "execution_count": 0,
      "outputs": []
    },
    {
      "cell_type": "markdown",
      "metadata": {
        "id": "19FuJz-oUguG",
        "colab_type": "text"
      },
      "source": [
        "### 2- PREDICT: Making a prediction and calculating error and delta"
      ]
    },
    {
      "cell_type": "markdown",
      "metadata": {
        "id": "YXZaSB1mUiHo",
        "colab_type": "text"
      },
      "source": [
        "<img src='https://github.com/rahiakela/img-repo/blob/master/grokking-deep-learning/gradient-descent-multiple-outputs-2.JPG?raw=1' width='800'/>"
      ]
    },
    {
      "cell_type": "code",
      "metadata": {
        "id": "RhM0ci6vUY3g",
        "colab_type": "code",
        "colab": {
          "base_uri": "https://localhost:8080/",
          "height": 0
        },
        "outputId": "5aeb3d3f-318f-48f3-b796-e4fbdd5f043a"
      },
      "source": [
        "wlrec = [0.65, 1.0, 1.0, 0.9]\n",
        "\n",
        "hurt = [0.1, 0.0, 0.0, 0.1]\n",
        "win = [1, 1, 0, 1]\n",
        "sad = [0.1, 0.0, 0.1, 0.2]\n",
        "\n",
        "input = wlrec[0]\n",
        "true_label = [hurt[0], win[0], sad[0]]\n",
        "\n",
        "pred = neural_network(input, weights)\n",
        "\n",
        "error = [0, 0, 0]\n",
        "delta = [0, 0, 0]\n",
        "\n",
        "for i in range(len(true_label)):\n",
        "  error[i] = (pred[i] - true_label[i]) ** 2\n",
        "  delta[i] = pred[i] - true_label[i]\n",
        "\n",
        "print(f'error = {str(error)}')\n",
        "print(f'delta = {str(delta)}')"
      ],
      "execution_count": 8,
      "outputs": [
        {
          "output_type": "stream",
          "text": [
            "error = [0.009025, 0.7569, 0.2352250000000001]\n",
            "delta = [0.095, -0.87, 0.4850000000000001]\n"
          ],
          "name": "stdout"
        }
      ]
    },
    {
      "cell_type": "markdown",
      "metadata": {
        "id": "8hXePlh8WJdF",
        "colab_type": "text"
      },
      "source": [
        "### 3- COMPARE: Calculating each weight_delta and putting it on each weight"
      ]
    },
    {
      "cell_type": "markdown",
      "metadata": {
        "id": "glvE2tY9WLK5",
        "colab_type": "text"
      },
      "source": [
        "<img src='https://github.com/rahiakela/img-repo/blob/master/grokking-deep-learning/gradient-descent-multiple-outputs-3.JPG?raw=1' width='800'/>"
      ]
    },
    {
      "cell_type": "code",
      "metadata": {
        "id": "s_rORTpmV7Ao",
        "colab_type": "code",
        "colab": {
          "base_uri": "https://localhost:8080/",
          "height": 0
        },
        "outputId": "e91b0d24-1e3d-4af0-8862-4452865b8c8a"
      },
      "source": [
        "def scalar_ele_mul(number, vector):\n",
        "  output = [0, 0, 0]\n",
        "\n",
        "  assert(len(output) == len(vector))\n",
        "\n",
        "  for i in range(len(vector)):\n",
        "    output[i] = number * vector[i]\n",
        "\n",
        "  return output\n",
        "\n",
        "wlrec = [0.65, 1.0, 1.0, 0.9]\n",
        "\n",
        "hurt = [0.1, 0.0, 0.0, 0.1]\n",
        "win = [1, 1, 0, 1]\n",
        "sad = [0.1, 0.0, 0.1, 0.2]\n",
        "\n",
        "input = wlrec[0]\n",
        "true_label = [hurt[0], win[0], sad[0]]\n",
        "\n",
        "pred = neural_network(input, weights)\n",
        "\n",
        "error = [0, 0, 0]\n",
        "delta = [0, 0, 0]\n",
        "\n",
        "for i in range(len(true_label)):\n",
        "  error[i] = (pred[i] - true_label[i]) ** 2\n",
        "  delta[i] = pred[i] - true_label[i]\n",
        "\n",
        "print(f'error = {str(error)}')\n",
        "print(f'delta = {str(delta)}')\n",
        "\n",
        "weight_deltas = scalar_ele_mul(input, delta)\n",
        "print(f'weight_deltas = {str(weight_deltas)}')"
      ],
      "execution_count": 10,
      "outputs": [
        {
          "output_type": "stream",
          "text": [
            "error = [0.009025, 0.7569, 0.2352250000000001]\n",
            "delta = [0.095, -0.87, 0.4850000000000001]\n",
            "weight_deltas = [0.061750000000000006, -0.5655, 0.3152500000000001]\n"
          ],
          "name": "stdout"
        }
      ]
    },
    {
      "cell_type": "markdown",
      "metadata": {
        "id": "V9YxSEIxX7Vw",
        "colab_type": "text"
      },
      "source": [
        "### 4- LEARN: Updating the weights"
      ]
    },
    {
      "cell_type": "markdown",
      "metadata": {
        "id": "HeULhADhX9Bx",
        "colab_type": "text"
      },
      "source": [
        "<img src='https://github.com/rahiakela/img-repo/blob/master/grokking-deep-learning/gradient-descent-multiple-outputs-4.JPG?raw=1' width='800'/>"
      ]
    },
    {
      "cell_type": "code",
      "metadata": {
        "id": "57wfNoWuXUaT",
        "colab_type": "code",
        "colab": {
          "base_uri": "https://localhost:8080/",
          "height": 0
        },
        "outputId": "738320db-d7f4-42b1-b047-f1383095e754"
      },
      "source": [
        "weight_deltas = scalar_ele_mul(input, delta)\n",
        "\n",
        "alpha = 0.1\n",
        "\n",
        "for i in range(len(weights)):\n",
        "  weights[i] -= (weight_deltas[i] * alpha)\n",
        "\n",
        "print(f'Weight = {str(weights)}')\n",
        "print(f'Weight Deltas = {str(weight_deltas)}')"
      ],
      "execution_count": 11,
      "outputs": [
        {
          "output_type": "stream",
          "text": [
            "Weight = [0.293825, 0.25655, 0.868475]\n",
            "Weight Deltas = [0.061750000000000006, -0.5655, 0.3152500000000001]\n"
          ],
          "name": "stdout"
        }
      ]
    },
    {
      "cell_type": "markdown",
      "metadata": {
        "id": "F7hEWw2eZHHB",
        "colab_type": "text"
      },
      "source": [
        "## Gradient descent with multiple inputs and outputs"
      ]
    },
    {
      "cell_type": "markdown",
      "metadata": {
        "id": "lVaSOXrPZIhe",
        "colab_type": "text"
      },
      "source": [
        "**Gradient descent generalizes to arbitrarily large networks.**"
      ]
    },
    {
      "cell_type": "markdown",
      "metadata": {
        "id": "gd9O_GNzZbIy",
        "colab_type": "text"
      },
      "source": [
        "### 1-An empty network with multiple inputs and outputs"
      ]
    },
    {
      "cell_type": "markdown",
      "metadata": {
        "id": "ZETJq_r6Zb91",
        "colab_type": "text"
      },
      "source": [
        "<img src='https://github.com/rahiakela/img-repo/blob/master/grokking-deep-learning/gradient-descent-multiple-inputs-outputs-1.JPG?raw=1' width='800'/>"
      ]
    },
    {
      "cell_type": "code",
      "metadata": {
        "id": "k7H9x97OYm0j",
        "colab_type": "code",
        "colab": {}
      },
      "source": [
        "weights = [\n",
        "    [0.1, 0.1, -0.3],  # hurt?\n",
        "    [0.1, 0.2, 0.0],   # win?\n",
        "    [0.0, 1.3, 0.1]    # sad?   \n",
        "]\n",
        "\n",
        "def vector_matrix_multiply(vector, matrix):\n",
        "  assert(len(vector) == len(matrix))\n",
        "\n",
        "  output = [0, 0, 0]\n",
        "  for i in range(len(vector)):\n",
        "    output[i] = w_sum(vector, matrix[i])\n",
        "  \n",
        "  return output\n",
        "\n",
        "def neural_network(input, weights):\n",
        "  pred = vector_matrix_multiply(input, weights)\n",
        "\n",
        "  return pred"
      ],
      "execution_count": 0,
      "outputs": []
    },
    {
      "cell_type": "markdown",
      "metadata": {
        "id": "Wu2ifjS5a63S",
        "colab_type": "text"
      },
      "source": [
        "### 2-PREDICT: Making a prediction and calculating error and delta"
      ]
    },
    {
      "cell_type": "markdown",
      "metadata": {
        "id": "PmWaQnv9a8uz",
        "colab_type": "text"
      },
      "source": [
        "<img src='https://github.com/rahiakela/img-repo/blob/master/grokking-deep-learning/gradient-descent-multiple-inputs-outputs-2.JPG?raw=1' width='800'/>"
      ]
    },
    {
      "cell_type": "code",
      "metadata": {
        "id": "da03_DXKa4K6",
        "colab_type": "code",
        "colab": {
          "base_uri": "https://localhost:8080/",
          "height": 51
        },
        "outputId": "02b9729c-79ca-4be8-ca41-974b8a7f2f7f"
      },
      "source": [
        "toes = [8.5, 9.5, 9.9, 9.0]\n",
        "wlrec = [0.65,0.8, 0.8, 0.9]\n",
        "nfans = [1.2, 1.3, 0.5, 1.0]\n",
        "\n",
        "hurt = [0.1, 0.0, 0.0, 0.1]\n",
        "win = [ 1, 1, 0, 1]\n",
        "sad = [0.1, 0.0, 0.1, 0.2]\n",
        "\n",
        "alpha = 0.01\n",
        "\n",
        "input = [toes[0],wlrec[0],nfans[0]]\n",
        "true_label = [hurt[0], win[0], sad[0]]\n",
        "\n",
        "pred = neural_network(input,weights)\n",
        "\n",
        "error = [0, 0, 0]\n",
        "delta = [0, 0, 0]\n",
        "\n",
        "for i in range(len(true_label)):\n",
        "  error[i] = (pred[i] - true_label[i]) ** 2\n",
        "  delta[i] = pred[i] - true_label[i]\n",
        "\n",
        "print(f'Error = {str(error)}')\n",
        "print(f'Delta = {str(delta)}')"
      ],
      "execution_count": 15,
      "outputs": [
        {
          "output_type": "stream",
          "text": [
            "Error = [0.20702500000000007, 0.0003999999999999963, 0.7482250000000001]\n",
            "Delta = [0.45500000000000007, -0.019999999999999907, 0.8650000000000001]\n"
          ],
          "name": "stdout"
        }
      ]
    },
    {
      "cell_type": "markdown",
      "metadata": {
        "id": "AjgtkYBkdKWt",
        "colab_type": "text"
      },
      "source": [
        "### 3-COMPARE: Calculating each weight_delta and putting it on each weight"
      ]
    },
    {
      "cell_type": "markdown",
      "metadata": {
        "id": "d8p1NAwQdMDE",
        "colab_type": "text"
      },
      "source": [
        "<img src='https://github.com/rahiakela/img-repo/blob/master/grokking-deep-learning/gradient-descent-multiple-inputs-outputs-3.JPG?raw=1' width='800'/>"
      ]
    },
    {
      "cell_type": "code",
      "metadata": {
        "id": "0XJsFJdwbglm",
        "colab_type": "code",
        "colab": {
          "base_uri": "https://localhost:8080/",
          "height": 68
        },
        "outputId": "16c2c805-b772-4b85-fbbf-2f24f1b605f8"
      },
      "source": [
        "def outer_product(vec_a, vec_b):\n",
        "  output = [[0, 0, 0], [0, 0, 0], [0, 0, 0]]\n",
        "\n",
        "  for i in range(len(vec_a)):\n",
        "    for j in range(len(vec_b)):\n",
        "      output[i][j] = vec_a[i] * vec_b[j]\n",
        "  return output\n",
        "\n",
        "input = [toes[0],wlrec[0],nfans[0]]\n",
        "true_label = [hurt[0], win[0], sad[0]]\n",
        "\n",
        "pred = neural_network(input,weights)\n",
        "\n",
        "error = [0, 0, 0]\n",
        "delta = [0, 0, 0]\n",
        "\n",
        "for i in range(len(true_label)):\n",
        "  error[i] = (pred[i] - true_label[i]) ** 2\n",
        "  delta[i] = pred[i] - true_label[i]\n",
        "\n",
        "weight_deltas = outer_product(input, delta)\n",
        "\n",
        "print(f'Error = {str(error)}')\n",
        "print(f'Delta = {str(delta)}') \n",
        "print(f'Weight Deltas = {str(weight_deltas[1:2])}')"
      ],
      "execution_count": 18,
      "outputs": [
        {
          "output_type": "stream",
          "text": [
            "Error = [0.20702500000000007, 0.0003999999999999963, 0.7482250000000001]\n",
            "Delta = [0.45500000000000007, -0.019999999999999907, 0.8650000000000001]\n",
            "Weight Deltas = [[0.29575000000000007, -0.01299999999999994, 0.5622500000000001]]\n"
          ],
          "name": "stdout"
        }
      ]
    },
    {
      "cell_type": "markdown",
      "metadata": {
        "id": "aB2rgH65fWxj",
        "colab_type": "text"
      },
      "source": [
        "### 4-LEARN: Updating the weights"
      ]
    },
    {
      "cell_type": "markdown",
      "metadata": {
        "id": "Ffcan04NfYSN",
        "colab_type": "text"
      },
      "source": [
        "<img src='https://github.com/rahiakela/img-repo/blob/master/grokking-deep-learning/gradient-descent-multiple-inputs-outputs-4.JPG?raw=1' width='800'/>"
      ]
    },
    {
      "cell_type": "code",
      "metadata": {
        "id": "Gwpqwg3Meh9A",
        "colab_type": "code",
        "colab": {
          "base_uri": "https://localhost:8080/",
          "height": 34
        },
        "outputId": "439d9961-1137-43f4-8d85-0a8c66bf3778"
      },
      "source": [
        "weight_deltas = outer_product(input, delta)\n",
        "\n",
        "for i in range(len(weights)):\n",
        "    for j in range(len(weights[0])):\n",
        "      weights[i][j] -= alpha * weight_deltas[i][j]\n",
        "\n",
        "print(f'Weight Deltas = {str(weight_deltas)}')"
      ],
      "execution_count": 20,
      "outputs": [
        {
          "output_type": "stream",
          "text": [
            "Weight Deltas = [[3.8675000000000006, -0.1699999999999992, 7.352500000000001], [0.29575000000000007, -0.01299999999999994, 0.5622500000000001], [0.546, -0.023999999999999886, 1.038]]\n"
          ],
          "name": "stdout"
        }
      ]
    },
    {
      "cell_type": "code",
      "metadata": {
        "id": "ZM7gfGDUf4lJ",
        "colab_type": "code",
        "colab": {}
      },
      "source": [
        ""
      ],
      "execution_count": 0,
      "outputs": []
    }
  ]
}