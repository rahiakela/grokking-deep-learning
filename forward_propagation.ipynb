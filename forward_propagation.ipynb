{
  "nbformat": 4,
  "nbformat_minor": 0,
  "metadata": {
    "colab": {
      "name": "forward-propagation.ipynb",
      "provenance": [],
      "toc_visible": true,
      "include_colab_link": true
    },
    "kernelspec": {
      "name": "python3",
      "display_name": "Python 3"
    }
  },
  "cells": [
    {
      "cell_type": "markdown",
      "metadata": {
        "id": "view-in-github",
        "colab_type": "text"
      },
      "source": [
        "<a href=\"https://colab.research.google.com/github/rahiakela/grokking-deep-learning/blob/3-forward-propagation/forward_propagation.ipynb\" target=\"_parent\"><img src=\"https://colab.research.google.com/assets/colab-badge.svg\" alt=\"Open In Colab\"/></a>"
      ]
    },
    {
      "cell_type": "markdown",
      "metadata": {
        "id": "acEcRcG456oU",
        "colab_type": "text"
      },
      "source": [
        "# A Simple Neural Network Making a Prediction"
      ]
    },
    {
      "cell_type": "markdown",
      "metadata": {
        "id": "s7QgoFMXi_wz",
        "colab_type": "text"
      },
      "source": [
        "## Step 1: Predict"
      ]
    },
    {
      "cell_type": "markdown",
      "metadata": {
        "id": "ctYO60Gf6wpF",
        "colab_type": "text"
      },
      "source": [
        "\n",
        "You learned about the paradigm predict, compare, learn. In this guide, we’ll dive deep into the first step: **predict**.\n",
        "<img src=\"https://github.com/rahiakela/img-repo/blob/master/predict1.JPG?raw=1\" width=\"800\"/>\n",
        "\n",
        "you’ll learn more about what these three different parts of a neural network\n",
        "prediction look like under the hood. Let’s start with the first one: the **data**.\n",
        "<img src=\"https://github.com/rahiakela/img-repo/blob/master/data-predict-1.JPG?raw=1\" width=\"800\"/>\n",
        "\n",
        "Later, you’ll find that the number of datapoints you process at a time has a significant\n",
        "impact on what a network looks like. You might be wondering, “How do I choose how\n",
        "many datapoints to propagate at a time?” The answer is based on whether you think the\n",
        "neural network can be accurate with the data you give it.\n",
        "\n",
        "For example, if I’m trying to predict whether there’s a cat in a photo, I definitely need to\n",
        "show my network all the pixels of an image at once. Why? Well, if I sent you only one\n",
        "pixel of an image, could you classify whether the image contained a cat? Me neither!\n",
        "\n",
        "That’s a general rule of thumb, by the way: always present enough information to the\n",
        "network, where “enough information” is defined loosely as how much a human might\n",
        "need to make the same prediction.\n",
        "\n",
        "As it turns out, you can create a network only after\n",
        "you understand the shape of the input and output datasets (for now, shape means “number\n",
        "of columns” or “number of datapoints you’re processing at once”).\n",
        "\n",
        "<img src=\"https://github.com/rahiakela/img-repo/blob/master/win-probability.JPG?raw=1\" width=\"800\"/>\n",
        "\n",
        "Now that you know you want to take one input datapoint and output one prediction, you\n",
        "can create a neural network. Because you have only one input datapoint and one output\n",
        "datapoint, you’re going to build a network with a single knob mapping from the input point\n",
        "to the output. (Abstractly, these “knobs” are actually called weights) \n",
        "\n",
        "So, without further ado, here’s your first neural network, with a\n",
        "single weight mapping from the input “# toes” to the output “win?”:\n",
        "\n",
        "<img src=\"https://github.com/rahiakela/img-repo/blob/master/empty-network.JPG?raw=1\" width=\"800\"/>"
      ]
    },
    {
      "cell_type": "markdown",
      "metadata": {
        "id": "hykXoOnT8E09",
        "colab_type": "text"
      },
      "source": [
        "### An empty network"
      ]
    },
    {
      "cell_type": "code",
      "metadata": {
        "id": "Z1aj4uNh74_I",
        "colab_type": "code",
        "colab": {}
      },
      "source": [
        "weight = 0.1\n",
        "\n",
        "def neural_network(input, weight):\n",
        "  # Multiplying input by weight\n",
        "  prediction = input * weight\n",
        "  return prediction"
      ],
      "execution_count": 0,
      "outputs": []
    },
    {
      "cell_type": "markdown",
      "metadata": {
        "id": "u5XymlDZ8cK2",
        "colab_type": "text"
      },
      "source": [
        "### Inserting one input datapoint and Depositing the prediction"
      ]
    },
    {
      "cell_type": "markdown",
      "metadata": {
        "id": "ErxEzYXvPuQ3",
        "colab_type": "text"
      },
      "source": [
        "<img src=\"https://github.com/rahiakela/img-repo/blob/master/input-datapoints.JPG?raw=1\" width=\"800\"/>\n",
        "\n",
        "<img src=\"https://github.com/rahiakela/img-repo/blob/master/input-weights.JPG?raw=1\" width=\"800\"/>"
      ]
    },
    {
      "cell_type": "code",
      "metadata": {
        "id": "aQ4_80xC8a31",
        "colab_type": "code",
        "outputId": "e675e6cc-e738-4fb2-cfbf-7604524c58c0",
        "colab": {
          "base_uri": "https://localhost:8080/",
          "height": 35
        }
      },
      "source": [
        "number_of_toes = [8.5, 9.5, 10, 9]\n",
        "\n",
        "input = number_of_toes[0]\n",
        "pred = neural_network(input, weight)\n",
        "print(pred)"
      ],
      "execution_count": 0,
      "outputs": [
        {
          "output_type": "stream",
          "text": [
            "0.8500000000000001\n"
          ],
          "name": "stdout"
        }
      ]
    },
    {
      "cell_type": "markdown",
      "metadata": {
        "id": "0tfgbsk494cf",
        "colab_type": "text"
      },
      "source": [
        "You just made your first neural network and used it to predict! Congratulations! It should be 0.85. So what is a neural network? For now, it’s one or\n",
        "more weights that you can multiply by the input data to make a prediction.\n",
        "<img src=\"https://github.com/rahiakela/img-repo/blob/master/prediction.JPG?raw=1\" width=\"800\"/>"
      ]
    },
    {
      "cell_type": "markdown",
      "metadata": {
        "id": "essPYytGPrDy",
        "colab_type": "text"
      },
      "source": [
        ""
      ]
    },
    {
      "cell_type": "markdown",
      "metadata": {
        "id": "O1iJ8ojt-ZHp",
        "colab_type": "text"
      },
      "source": [
        "### How does the network learn?"
      ]
    },
    {
      "cell_type": "markdown",
      "metadata": {
        "id": "eIMVLb70-aTh",
        "colab_type": "text"
      },
      "source": [
        "Trial and error! First, it tries to make a prediction. Then, it sees whether the prediction was too\n",
        "high or too low. \n",
        "\n",
        "Finally, it changes the weight (up or down) to predict more accurately the\n",
        "next time it sees the same input."
      ]
    },
    {
      "cell_type": "markdown",
      "metadata": {
        "id": "clYAua6f_D4A",
        "colab_type": "text"
      },
      "source": [
        "### What does this neural network do?\n",
        "\n",
        "**It multiplies the input by a weight. It “scales” the input by a certain amount.**"
      ]
    },
    {
      "cell_type": "markdown",
      "metadata": {
        "id": "mJookBSyAUMY",
        "colab_type": "text"
      },
      "source": [
        "In the previous section, you made your first prediction with a neural network. A neural network,\n",
        "in its simplest form, uses the power of multiplication. It takes an input datapoint (in this case,\n",
        "8.5) and multiplies it by the weight. If the weight is 2, then the neural network will double the\n",
        "input. If the weight is 0.01, then the network will divide the input by 100. As you can see, some\n",
        "weight values make the input bigger, and other values make it smaller.\n"
      ]
    },
    {
      "cell_type": "markdown",
      "metadata": {
        "id": "X3HSlq6ZBEcP",
        "colab_type": "text"
      },
      "source": [
        "#### Conclusion"
      ]
    },
    {
      "cell_type": "markdown",
      "metadata": {
        "id": "_5B_TTDFBHBE",
        "colab_type": "text"
      },
      "source": [
        "The interface for a neural network is simple. It accepts an input variable as information and a\n",
        "weight variable as knowledge and outputs a prediction. \n",
        "\n",
        "Every neural network you’ll ever see\n",
        "works this way. It uses the knowledge in the weights to interpret the information in the input\n",
        "data. \n",
        "\n",
        "Later neural networks will accept larger, more complicated input and weight values, but\n",
        "this same underlying premise will always ring true.\n",
        "\n",
        "Notice several things. \n",
        "\n",
        "* First, the neural network does not have access to any information\n",
        "except one instance. \n",
        "* If, after this prediction, you were to feed in number_of_toes[1], the\n",
        "network wouldn’t remember the prediction it made in the last timestep. \n",
        "* A neural network\n",
        "knows only what you feed it as input. It forgets everything else. \n",
        "\n",
        "Later, you’ll learn how to\n",
        "give a neural network a “short-term memory” by feeding in multiple inputs at once.\n",
        "\n",
        "Another way to think about a neural network’s weight value is as a measure of sensitivity\n",
        "between the input of the network and its prediction. \n",
        "* If the weight is very high, then even the\n",
        "tiniest input can create a really large prediction! \n",
        "* If the weight is very small, then even large\n",
        "inputs will make small predictions. \n",
        "\n",
        "This sensitivity is akin to volume. “Turning up the weight”\n",
        "amplifies the prediction relative to the input: weight is a volume knob!\n",
        "\n",
        "Note that neural networks don’t predict just positive numbers—they can also predict negative\n",
        "numbers and even take negative numbers as input. Perhaps you want to predict the probability\n",
        "that people will wear coats today. If the temperature is –10 degrees Celsius, then a negative\n",
        "weight will predict a high probability that people will wear their coats."
      ]
    },
    {
      "cell_type": "markdown",
      "metadata": {
        "id": "Y6d5h-gsFRJO",
        "colab_type": "text"
      },
      "source": [
        "# Making a prediction with multiple inputs\n",
        "\n",
        "**Neural networks can combine intelligence from\n",
        "multiple datapoints.**"
      ]
    },
    {
      "cell_type": "markdown",
      "metadata": {
        "id": "eZ33RrdIensk",
        "colab_type": "text"
      },
      "source": [
        "## Predcition with multiple inputs"
      ]
    },
    {
      "cell_type": "markdown",
      "metadata": {
        "id": "r5PkRf26Q5XL",
        "colab_type": "text"
      },
      "source": [
        "What if you could give the network\n",
        "more information (at one time) than just the average number of toes per player? In that case,\n",
        "the network should, in theory, be able to make more-accurate predictions. Well, as it turns out, a\n",
        "network can accept multiple input datapoints at a time.\n",
        "\n",
        "<img src=\"https://github.com/rahiakela/img-repo/blob/master/multi-input-datapoints-1.JPG?raw=1\" width=\"800\"/>\n",
        "\n"
      ]
    },
    {
      "cell_type": "code",
      "metadata": {
        "id": "bHcvwyx585GQ",
        "colab_type": "code",
        "colab": {}
      },
      "source": [
        "weights = [0.1, 0.2, 0.0]\n",
        "\n",
        "def neural_network(inputs, weights):\n",
        "  pred = weight_sum(inputs, weights)\n",
        "  return pred"
      ],
      "execution_count": 0,
      "outputs": []
    },
    {
      "cell_type": "markdown",
      "metadata": {
        "id": "_EUOHce4S3i2",
        "colab_type": "text"
      },
      "source": [
        "<img src=\"https://github.com/rahiakela/img-repo/blob/master/multi-input-datapoints-2.JPG?raw=1\" width=\"800\"/>"
      ]
    },
    {
      "cell_type": "code",
      "metadata": {
        "id": "3q-JgZRuT-oR",
        "colab_type": "code",
        "colab": {}
      },
      "source": [
        "toes = [8.5, 9.5, 9.9, 9.0]\n",
        "wlrec = [0.65, 0.8, 0.8, 0.9]\n",
        "nfans = [1.2, 1.3, 0.5, 1.0]\n",
        "\n",
        "# making input\n",
        "inputs = [toes[0], wlrec[0], nfans[0]]\n",
        "\n",
        "# making prediction\n",
        "prediction = neural_network(inputs, weights)"
      ],
      "execution_count": 0,
      "outputs": []
    },
    {
      "cell_type": "markdown",
      "metadata": {
        "id": "CLY5jBFcU7nt",
        "colab_type": "text"
      },
      "source": [
        "<img src=\"https://github.com/rahiakela/img-repo/blob/master/weighted-sum-inputs.JPG?raw=1\" width=\"800\"/>"
      ]
    },
    {
      "cell_type": "code",
      "metadata": {
        "id": "3mnV1qmUU8nE",
        "colab_type": "code",
        "colab": {}
      },
      "source": [
        "def weight_sum(X, W):\n",
        "  # input features and weight length must be same\n",
        "  assert(len(X) == len(W))\n",
        "\n",
        "  result = 0\n",
        "  for i in range(len(X)):\n",
        "    result += (X[i] * W[i])\n",
        "\n",
        "  return result  "
      ],
      "execution_count": 0,
      "outputs": []
    },
    {
      "cell_type": "markdown",
      "metadata": {
        "id": "VHQEGY2AWFqi",
        "colab_type": "text"
      },
      "source": [
        "<img src=\"https://github.com/rahiakela/img-repo/blob/master/depositing-prediction.JPG?raw=1\" width=\"800\"/>"
      ]
    },
    {
      "cell_type": "code",
      "metadata": {
        "id": "9k6iLS_1V-CC",
        "colab_type": "code",
        "outputId": "140bf0e1-04c8-4f70-b6c5-b5f5854f3456",
        "colab": {
          "base_uri": "https://localhost:8080/",
          "height": 35
        }
      },
      "source": [
        "toes = [8.5, 9.5, 9.9, 9.0]\n",
        "wlrec = [0.65, 0.8, 0.8, 0.9]\n",
        "nfans = [1.2, 1.3, 0.5, 1.0]\n",
        "\n",
        "# making input\n",
        "inputs = [toes[0], wlrec[0], nfans[0]]\n",
        "\n",
        "# making prediction\n",
        "prediction = neural_network(inputs, weights)\n",
        "print(prediction)"
      ],
      "execution_count": 0,
      "outputs": [
        {
          "output_type": "stream",
          "text": [
            "0.9800000000000001\n"
          ],
          "name": "stdout"
        }
      ]
    },
    {
      "cell_type": "markdown",
      "metadata": {
        "id": "a5fYGJ4AYEdN",
        "colab_type": "text"
      },
      "source": [
        "## Multiple inputs: What does this neural network do?\n",
        "\n",
        "**It multiplies three inputs by three knob weights and sums them.\n",
        "This is a weighted sum.**"
      ]
    },
    {
      "cell_type": "markdown",
      "metadata": {
        "id": "1_MCuMJBfD_-",
        "colab_type": "text"
      },
      "source": [
        "### Sum of weights"
      ]
    },
    {
      "cell_type": "markdown",
      "metadata": {
        "id": "dyhTIwF9YJUl",
        "colab_type": "text"
      },
      "source": [
        "You learned that in order to make\n",
        "accurate predictions, you need to build neural networks that can combine multiple inputs at\n",
        "the same time. Fortunately, neural networks are perfectly capable of doing so.\n",
        "\n",
        "<img src=\"https://github.com/rahiakela/img-repo/blob/master/empty-networkwith-multiple-inputs.JPG?raw=1\" width=\"800\"/>\n",
        "\n",
        "This new neural network can accept multiple inputs at a time per prediction. This allows the\n",
        "network to combine various forms of information to make better-informed decisions. But\n",
        "the fundamental mechanism for using weights hasn’t changed. You still take each input and\n",
        "run it through its own volume knob. In other words, you multiply each input by its own\n",
        "weight.\n",
        "\n",
        "The new property here is that, because you have multiple inputs, you have to sum their\n",
        "respective predictions. Thus, you multiply each input by its respective weight and then sum\n",
        "all the local predictions together. This is called a weighted sum of the input, or a weighted sum\n",
        "for short. Some also refer to the weighted sum as a dot product, as you’ll see.\n",
        "\n",
        "<img src=\"https://github.com/rahiakela/img-repo/blob/master/one-input-datapoint.JPG?raw=1\" width=\"800\"/>\n"
      ]
    },
    {
      "cell_type": "markdown",
      "metadata": {
        "id": "lxK_7gl2fgr2",
        "colab_type": "text"
      },
      "source": [
        "### Vector Operation"
      ]
    },
    {
      "cell_type": "markdown",
      "metadata": {
        "id": "iRYxBk6ffkDu",
        "colab_type": "text"
      },
      "source": [
        "This new need to process multiple inputs at a time justifies the use of a new tool. It’s called a vector,\n",
        "and if you’ve been following along in your Jupyter notebook, you’ve already been using it. A vector\n",
        "is nothing other than a list of numbers. In the example, input is a vector and weights is a vector.\n",
        "\n",
        "As it turns out, vectors are incredibly useful whenever you want to perform operations\n",
        "involving groups of numbers. In this case, you’re performing a weighted sum between two\n",
        "vectors (a dot product). You’re taking two vectors of equal length (input and weights),\n",
        "multiplying each number based on its position (the first position in input is multiplied by\n",
        "the first position in weights, and so on), and then summing the resulting output.\n",
        "\n",
        "Anytime you perform a mathematical operation between two vectors of equal length where\n",
        "you pair up values according to their position in the vector (again: position 0 with 0, 1 with 1,\n",
        "and so on), it’s called an elementwise operation. Thus elementwise addition sums two vectors,\n",
        "and elementwise multiplication multiplies two vectors.\n",
        "\n",
        "<img src=\"https://github.com/rahiakela/img-repo/blob/master/weighted-sum-inputs.JPG?raw=1\" width=\"800\"/>\n",
        "\n",
        "The intuition behind how and why a dot product (weighted sum) works is easily one of the most\n",
        "important parts of truly understanding how neural networks make predictions. Loosely stated, a\n",
        "dot product gives you a notion of similarity between two vectors."
      ]
    },
    {
      "cell_type": "code",
      "metadata": {
        "id": "0aRviTCVWvUb",
        "colab_type": "code",
        "outputId": "a51595f3-2afc-4cce-e8f3-c0c953f47d48",
        "colab": {
          "base_uri": "https://localhost:8080/",
          "height": 124
        }
      },
      "source": [
        "a = [0, 1, 0, 1]\n",
        "b = [1, 0, 1, 0]\n",
        "c = [0, 1, 1, 0]\n",
        "d = [.5, 0, .5, 0]\n",
        "e = [0, 1, -1, 0]\n",
        "\n",
        "print(weight_sum(a, b))\n",
        "print(weight_sum(b, c))\n",
        "print(weight_sum(b, d))\n",
        "print(weight_sum(c, c))\n",
        "print(weight_sum(d, d))\n",
        "print(weight_sum(c, e))"
      ],
      "execution_count": 0,
      "outputs": [
        {
          "output_type": "stream",
          "text": [
            "0\n",
            "1\n",
            "1.0\n",
            "2\n",
            "0.5\n",
            "0\n"
          ],
          "name": "stdout"
        }
      ]
    },
    {
      "cell_type": "markdown",
      "metadata": {
        "id": "PBOL_NU2deli",
        "colab_type": "text"
      },
      "source": [
        "The highest weighted sum (w_sum(c,c)) is between vectors that are exactly identical. In\n",
        "contrast, because a and b have no overlapping weight, their dot product is zero. Perhaps\n",
        "the most interesting weighted sum is between c and e, because e has a negative weight.\n",
        "This negative weight canceled out the positive similarity between them.\n",
        "\n",
        "But a dot product\n",
        "between e and itself would yield the number 2, despite the negative weight (double\n",
        "negative turns positive)."
      ]
    },
    {
      "cell_type": "code",
      "metadata": {
        "id": "XpNjASW0c57E",
        "colab_type": "code",
        "outputId": "931329fc-5d7d-411d-a5c0-8264d5f1f52d",
        "colab": {
          "base_uri": "https://localhost:8080/",
          "height": 35
        }
      },
      "source": [
        "print(weight_sum(e, e))"
      ],
      "execution_count": 0,
      "outputs": [
        {
          "output_type": "stream",
          "text": [
            "2\n"
          ],
          "name": "stdout"
        }
      ]
    },
    {
      "cell_type": "markdown",
      "metadata": {
        "id": "UDwFZW2zf2QP",
        "colab_type": "text"
      },
      "source": [
        "### Intuition of dot product"
      ]
    },
    {
      "cell_type": "markdown",
      "metadata": {
        "id": "i2PZGqpmdnn-",
        "colab_type": "text"
      },
      "source": [
        " Let’s become familiar with the various properties of the dot\n",
        "product operation.\n",
        "\n",
        "Sometimes you can equate the properties of the dot product to a logical AND. Consider a and b:"
      ]
    },
    {
      "cell_type": "code",
      "metadata": {
        "id": "3x7CyEY1dZjH",
        "colab_type": "code",
        "colab": {}
      },
      "source": [
        "a = [ 0, 1, 0, 1]\n",
        "b = [ 1, 0, 1, 0]"
      ],
      "execution_count": 0,
      "outputs": []
    },
    {
      "cell_type": "markdown",
      "metadata": {
        "id": "477OkaKRgrZE",
        "colab_type": "text"
      },
      "source": [
        "If you ask whether both a[0] AND b[0] have value, the answer is no. If you ask whether both\n",
        "a[1] AND b[1] have value, the answer is again no. Because this is always true for all four\n",
        "values, the final score equals 0. Each value fails the logical AND."
      ]
    },
    {
      "cell_type": "code",
      "metadata": {
        "id": "2lmhIVVYguEe",
        "colab_type": "code",
        "colab": {}
      },
      "source": [
        "b = [ 1, 0, 1, 0]\n",
        "c = [ 0, 1, 1, 0]"
      ],
      "execution_count": 0,
      "outputs": []
    },
    {
      "cell_type": "markdown",
      "metadata": {
        "id": "zEGlGec0gDGG",
        "colab_type": "text"
      },
      "source": [
        "b and c, however, have one column that shares value. It passes the logical AND because b[2]\n",
        "and c[2] have weight. This column (and only this column) causes the score to rise to 1."
      ]
    },
    {
      "cell_type": "code",
      "metadata": {
        "id": "tDsBmPvGg8bI",
        "colab_type": "code",
        "colab": {}
      },
      "source": [
        "c = [ 0, 1, 1, 0]\n",
        "d = [.5, 0,.5, 0]"
      ],
      "execution_count": 0,
      "outputs": []
    },
    {
      "cell_type": "markdown",
      "metadata": {
        "id": "BjbcixLvhFqA",
        "colab_type": "text"
      },
      "source": [
        "Fortunately, neural networks are also able to model partial ANDing. In this case, c and d share\n",
        "the same column as b and c, but because d has only 0.5 weight there, the final score is only 0.5."
      ]
    },
    {
      "cell_type": "code",
      "metadata": {
        "id": "gi7i46_Whohc",
        "colab_type": "code",
        "outputId": "770c5b61-1657-4110-bbf3-1e071d0406e6",
        "colab": {
          "base_uri": "https://localhost:8080/",
          "height": 35
        }
      },
      "source": [
        "print(weight_sum(c, d))"
      ],
      "execution_count": 0,
      "outputs": [
        {
          "output_type": "stream",
          "text": [
            "0.5\n"
          ],
          "name": "stdout"
        }
      ]
    },
    {
      "cell_type": "markdown",
      "metadata": {
        "id": "YsxgrHfshxu2",
        "colab_type": "text"
      },
      "source": [
        "We exploit this property when modeling probabilities in neural networks."
      ]
    },
    {
      "cell_type": "code",
      "metadata": {
        "id": "LYUdayR6htgo",
        "colab_type": "code",
        "outputId": "ae615eec-d59c-4c6d-c94c-e26619132612",
        "colab": {
          "base_uri": "https://localhost:8080/",
          "height": 35
        }
      },
      "source": [
        "d = [.5, 0,.5, 0]\n",
        "e = [-1, 1, 0, 0]\n",
        "print(weight_sum(d, e))"
      ],
      "execution_count": 0,
      "outputs": [
        {
          "output_type": "stream",
          "text": [
            "-0.5\n"
          ],
          "name": "stdout"
        }
      ]
    },
    {
      "cell_type": "markdown",
      "metadata": {
        "id": "zkv6LJb-h0R0",
        "colab_type": "text"
      },
      "source": [
        "Given these intuitions, what does this mean when a neural network makes a prediction?\n",
        "Roughly speaking, it means the network gives a high score of the inputs based on how\n",
        "similar they are to the weights. Notice in the following example that nfans is completely\n",
        "ignored in the prediction because the weight associated with it is 0. The most sensitive\n",
        "predictor is wlrec because its weight is 0.2. But the dominant force in the high score is\n",
        "the number of toes (ntoes), not because the weight is the highest, but because the input\n",
        "combined with the weight is by far the highest.\n",
        "\n",
        "<img src=\"https://github.com/rahiakela/img-repo/blob/master/deposit-prediction.JPG?raw=1\" width=\"800\"/>\n",
        "\n",
        "Here are a few more points to note for further reference. \n",
        "\n",
        "* You can’t shuffle weights: they have\n",
        "specific positions they need to be in. \n",
        "* Furthermore, both the value of the weight and the value of\n",
        "the input determine the overall impact on the final score. \n",
        "* Finally, a negative weight will cause\n",
        "some inputs to reduce the final prediction (and vice versa)."
      ]
    },
    {
      "cell_type": "markdown",
      "metadata": {
        "id": "0dXGmjyAj_6Z",
        "colab_type": "text"
      },
      "source": [
        "## Multiple inputs: Complete runnable code"
      ]
    },
    {
      "cell_type": "markdown",
      "metadata": {
        "id": "3_4GaVAQkYAK",
        "colab_type": "text"
      },
      "source": [
        "### Pure Pythonic Neural Network"
      ]
    },
    {
      "cell_type": "markdown",
      "metadata": {
        "id": "lqdaMOQ1kc24",
        "colab_type": "text"
      },
      "source": [
        "I’ve written everything out using basic properties of\n",
        "Python (lists and numbers). But a better way exists that we’ll begin using in the future."
      ]
    },
    {
      "cell_type": "code",
      "metadata": {
        "id": "_-jzNhuDkdoV",
        "colab_type": "code",
        "outputId": "3e849ca4-2b15-4cb4-eb2b-057ae92e8491",
        "colab": {
          "base_uri": "https://localhost:8080/",
          "height": 35
        }
      },
      "source": [
        "def weight_sum(X, W):\n",
        "  assert(len(X) == len(W))\n",
        "\n",
        "  result = 0\n",
        "  for i in range(len(X)):\n",
        "    result += (X[i] * W[i])\n",
        "  return result\n",
        "\n",
        "# define the weight\n",
        "weights = [0.1, 0.2, 0.0]\n",
        "\n",
        "def neural_network(features, weights):\n",
        "  prediction = weight_sum(features, weights)\n",
        "  return prediction\n",
        "\n",
        "# define features as all game of the season\n",
        "toes = [8.5, 9.5, 9.9, 9.0]\n",
        "wlrec = [0.65, 0.8, 0.8, 0.9]\n",
        "nfans = [1.2, 1.3, 0.5, 1.0]  \n",
        "\n",
        "# Input feature corresponds to every entry for the first game of the season.\n",
        "inputs = [toes[0], wlrec[0], nfans[0]]\n",
        "\n",
        "# make prediction\n",
        "pred = neural_network(inputs, weights)\n",
        "print(pred)"
      ],
      "execution_count": 0,
      "outputs": [
        {
          "output_type": "stream",
          "text": [
            "0.9800000000000001\n"
          ],
          "name": "stdout"
        }
      ]
    },
    {
      "cell_type": "markdown",
      "metadata": {
        "id": "9RSrdpopmJPh",
        "colab_type": "text"
      },
      "source": [
        "### Neural Network using Numpy"
      ]
    },
    {
      "cell_type": "markdown",
      "metadata": {
        "id": "qlubx2YAmPLZ",
        "colab_type": "text"
      },
      "source": [
        "There’s a Python library called NumPy, which stands for “numerical Python.” It has\n",
        "very efficient code for creating vectors and performing common functions (such as dot\n",
        "products)."
      ]
    },
    {
      "cell_type": "code",
      "metadata": {
        "id": "pJ9uWbERl6B0",
        "colab_type": "code",
        "colab": {}
      },
      "source": [
        "import numpy as np"
      ],
      "execution_count": 0,
      "outputs": []
    },
    {
      "cell_type": "code",
      "metadata": {
        "id": "ryy1dD9HnHv2",
        "colab_type": "code",
        "outputId": "65df6c84-df9e-4a9e-d5ae-1920aee7933d",
        "colab": {
          "base_uri": "https://localhost:8080/",
          "height": 35
        }
      },
      "source": [
        "# define the weight\n",
        "weights = np.array([0.1, 0.2, 0.0])\n",
        "\n",
        "def neural_network(features, weights):\n",
        "  prediction = features.dot(weights)\n",
        "  return prediction\n",
        "\n",
        "# define features as all game of the season\n",
        "toes = np.array([8.5, 9.5, 9.9, 9.0])\n",
        "wlrec = np.array([0.65, 0.8, 0.8, 0.9])\n",
        "nfans = np.array([1.2, 1.3, 0.5, 1.0])\n",
        "\n",
        "# Input feature corresponds to every entry for the first game of the season.\n",
        "inputs = np.array([toes[0], wlrec[0], nfans[0]])\n",
        "\n",
        "# make prediction\n",
        "pred = neural_network(inputs, weights)\n",
        "print(pred)"
      ],
      "execution_count": 0,
      "outputs": [
        {
          "output_type": "stream",
          "text": [
            "0.9800000000000001\n"
          ],
          "name": "stdout"
        }
      ]
    },
    {
      "cell_type": "code",
      "metadata": {
        "id": "bYXS68FMoKF9",
        "colab_type": "code",
        "outputId": "dde8cfe8-eccb-46da-f803-26a34437660c",
        "colab": {
          "base_uri": "https://localhost:8080/",
          "height": 35
        }
      },
      "source": [
        "# Input feature corresponds to every entry for the second game of the season.\n",
        "inputs = np.array([toes[1], wlrec[1], nfans[1]])\n",
        "\n",
        "# make prediction\n",
        "pred = neural_network(inputs, weights)\n",
        "print(pred)"
      ],
      "execution_count": 0,
      "outputs": [
        {
          "output_type": "stream",
          "text": [
            "1.11\n"
          ],
          "name": "stdout"
        }
      ]
    },
    {
      "cell_type": "code",
      "metadata": {
        "id": "8ou0wpmXoS7Z",
        "colab_type": "code",
        "outputId": "5adf46e5-a7f6-4fdc-ae2b-808778064418",
        "colab": {
          "base_uri": "https://localhost:8080/",
          "height": 35
        }
      },
      "source": [
        "# Input feature corresponds to every entry for the third game of the season.\n",
        "inputs = np.array([toes[2], wlrec[2], nfans[2]])\n",
        "\n",
        "# make prediction\n",
        "pred = neural_network(inputs, weights)\n",
        "print(pred)"
      ],
      "execution_count": 0,
      "outputs": [
        {
          "output_type": "stream",
          "text": [
            "1.1500000000000001\n"
          ],
          "name": "stdout"
        }
      ]
    },
    {
      "cell_type": "markdown",
      "metadata": {
        "id": "9YcneF3Zn7Im",
        "colab_type": "text"
      },
      "source": [
        "Both networks should print out 0.98. Notice that in the NumPy code, you don’t have to\n",
        "create a weight_sum function. \n",
        "\n",
        "Instead, NumPy has a dot function (short for “dot product”) you\n",
        "can call."
      ]
    },
    {
      "cell_type": "markdown",
      "metadata": {
        "id": "mEYDhEewo2vH",
        "colab_type": "text"
      },
      "source": [
        "# Making a prediction with multiple outputs\n",
        "\n",
        "**Neural networks can also make multiple predictions using only a\n",
        "single input.**"
      ]
    },
    {
      "cell_type": "markdown",
      "metadata": {
        "id": "HxmG4NB5kKJI",
        "colab_type": "text"
      },
      "source": [
        "Perhaps a simpler augmentation than multiple inputs is multiple outputs. Prediction occurs\n",
        "the same as if there were three disconnected single-weight neural networks.\n",
        "\n",
        "### An empty network with multiple outputs\n",
        "\n",
        "<img src=\"https://github.com/rahiakela/img-repo/blob/master/empty-network-with-multiple-outputs-1.JPG?raw=1\" width=\"800\"/>\n",
        "\n",
        "The most important comment in this setting is to notice that the three predictions are\n",
        "completely separate. Unlike neural networks with multiple inputs and a single output, where\n",
        "the prediction is undeniably connected, this network truly behaves as three independent\n",
        "components, each receiving the same input data.\n",
        "\n",
        "### Inserting one input datapoint\n",
        "\n",
        "<img src=\"https://github.com/rahiakela/img-repo/blob/master/empty-network-with-multiple-outputs-2.JPG?raw=1\" width=\"800\"/>\n",
        "\n",
        "### Performing elementwise multiplication\n",
        "\n",
        "<img src=\"https://github.com/rahiakela/img-repo/blob/master/empty-network-with-multiple-outputs-3.JPG?raw=1\" width=\"800\"/>\n",
        "\n",
        "### Depositing predictions\n",
        "\n",
        "<img src=\"https://github.com/rahiakela/img-repo/blob/master/empty-network-with-multiple-outputs-4.JPG?raw=1\" width=\"800\"/>"
      ]
    },
    {
      "cell_type": "markdown",
      "metadata": {
        "id": "Hg9sDkiImSGR",
        "colab_type": "text"
      },
      "source": [
        "## Multiple outputs: Complete runnable code"
      ]
    },
    {
      "cell_type": "markdown",
      "metadata": {
        "id": "-7w0jAEkmTa9",
        "colab_type": "text"
      },
      "source": [
        "### Pure Pythonic Neural Network"
      ]
    },
    {
      "cell_type": "code",
      "metadata": {
        "id": "sUbw1MzVmXt_",
        "colab_type": "code",
        "outputId": "96d437ec-fc34-40be-a3c8-9ba1beb33287",
        "colab": {
          "base_uri": "https://localhost:8080/",
          "height": 35
        }
      },
      "source": [
        "def weight_mul(Xi, W):\n",
        "  # define multiple output length\n",
        "  output = [0, 0, 0]\n",
        "  assert(len(output) == len(W))\n",
        "\n",
        "  for i in range(len(W)):\n",
        "    output[i] = (Xi * W[i])\n",
        "  return output\n",
        "\n",
        "# define the weight\n",
        "weights = [0.3, 0.2, 0.9]\n",
        "\n",
        "def neural_network(feature, weights):\n",
        "  prediction = weight_mul(feature, weights)\n",
        "  return prediction\n",
        "\n",
        "# define siglne feature as all game of the season\n",
        "wlrec = [0.65, 0.8, 0.8, 0.9]  \n",
        "\n",
        "# input siglne feature corresponds to one entry for the first game of the season.\n",
        "input_one = wlrec[0]\n",
        "\n",
        "# make prediction\n",
        "pred = neural_network(input_one, weights)\n",
        "print(pred)"
      ],
      "execution_count": 0,
      "outputs": [
        {
          "output_type": "stream",
          "text": [
            "[0.195, 0.13, 0.5850000000000001]\n"
          ],
          "name": "stdout"
        }
      ]
    },
    {
      "cell_type": "markdown",
      "metadata": {
        "id": "wejlFKy7ogPj",
        "colab_type": "text"
      },
      "source": [
        "### Neural Network using Numpy"
      ]
    },
    {
      "cell_type": "code",
      "metadata": {
        "id": "St18Y3LXpEY2",
        "colab_type": "code",
        "colab": {}
      },
      "source": [
        "import numpy as np"
      ],
      "execution_count": 0,
      "outputs": []
    },
    {
      "cell_type": "code",
      "metadata": {
        "id": "gZiKoq5dogxw",
        "colab_type": "code",
        "outputId": "be3cc7ff-8823-4cf4-c0da-254306f403fe",
        "colab": {
          "base_uri": "https://localhost:8080/",
          "height": 35
        }
      },
      "source": [
        "# define the weight\n",
        "weights = np.array([0.3, 0.2, 0.9])\n",
        "\n",
        "def neural_network(feature, weights):\n",
        "  prediction = np.multiply(weights, feature)\n",
        "  return prediction\n",
        "\n",
        "# define single feature as all game of the season\n",
        "wlrec = np.array([0.65, 0.8, 0.8, 0.9])\n",
        "\n",
        "# input single feature corresponds to single entry for the first game of the season.\n",
        "input_one =wlrec[0]\n",
        "\n",
        "# make prediction\n",
        "pred = neural_network(input_one, weights)\n",
        "print(pred)"
      ],
      "execution_count": 0,
      "outputs": [
        {
          "output_type": "stream",
          "text": [
            "[0.195 0.13  0.585]\n"
          ],
          "name": "stdout"
        }
      ]
    },
    {
      "cell_type": "markdown",
      "metadata": {
        "id": "gb44zZvnqIk3",
        "colab_type": "text"
      },
      "source": [
        "# Predicting with multiple inputs and outputs\n",
        "\n",
        "**Neural networks can predict multiple outputs given\n",
        "multiple inputs.**"
      ]
    },
    {
      "cell_type": "markdown",
      "metadata": {
        "id": "VKkyr3SyqY1N",
        "colab_type": "text"
      },
      "source": [
        "Finally, the way you build a network with multiple inputs or outputs can be combined to build\n",
        "a network that has both multiple inputs and multiple outputs. As before, a weight connects each\n",
        "input node to each output node, and prediction occurs in the usual way.\n",
        "\n",
        "### An empty network with multiple inputs and outputs\n",
        "\n",
        "<img src=\"https://github.com/rahiakela/img-repo/blob/master/network-with-multiple-inputs-and-outputs-1.JPG?raw=1\" width=\"800\"/>\n",
        "\n",
        "### Inserting one input datapoint\n",
        "\n",
        "<img src=\"https://github.com/rahiakela/img-repo/blob/master/network-with-multiple-inputs-and-outputs-2.JPG?raw=1\" width=\"800\"/>\n",
        "\n",
        "### For each output, performing a weighted sum of inputs\n",
        "\n",
        "<img src=\"https://github.com/rahiakela/img-repo/blob/master/network-with-multiple-inputs-and-outputs-4.JPG?raw=1\" width=\"800\"/>\n",
        "\n",
        "### Depositing predictions\n",
        "\n",
        "<img src=\"https://github.com/rahiakela/img-repo/blob/master/network-with-multiple-inputs-and-outputs-5.JPG?raw=1\" width=\"800\"/>\n",
        "\n",
        "\n"
      ]
    },
    {
      "cell_type": "markdown",
      "metadata": {
        "id": "1H4Q1Acns6EA",
        "colab_type": "text"
      },
      "source": [
        "## Multiple inputs and outputs: Complete runnable code"
      ]
    },
    {
      "cell_type": "markdown",
      "metadata": {
        "id": "SE-3_HR7s_vY",
        "colab_type": "text"
      },
      "source": [
        "### Pure Pythonic Neural Network"
      ]
    },
    {
      "cell_type": "code",
      "metadata": {
        "id": "IqNh_reToJzM",
        "colab_type": "code",
        "outputId": "65177681-bced-4cf0-8aa6-0c47a38455a2",
        "colab": {
          "base_uri": "https://localhost:8080/",
          "height": 35
        }
      },
      "source": [
        "# summition of weights and features\n",
        "def weight_sum(X, W):\n",
        "  assert(len(X) == len(W))\n",
        "\n",
        "  result = 0\n",
        "  for i in range(len(X)):\n",
        "    result += (X[i] * W[i])\n",
        "  return result\n",
        "\n",
        "# multiplication of weights and features vector\n",
        "def vect_mat_mul(features_vec, weights_matrix):\n",
        "  assert(len(features_vec) == len(weights_matrix))\n",
        "\n",
        "  # define the output length\n",
        "  output = [0, 0, 0]\n",
        "  for i in range(len(features_vec)):\n",
        "    output[i] = weight_sum(features_vec, weights_matrix[i])\n",
        "  return output\n",
        "\n",
        "# define the weight\n",
        "# toes % win # fans\n",
        "weights = [\n",
        "  [0.1, 0.1, -0.3],  # hurt?\n",
        "  [0.1, 0.2, 0.0],   # win?\n",
        "  [0.0, 1.3, 0.1]    # sad?\n",
        "]\n",
        "\n",
        "def neural_network(features_vec, weights_matrix):\n",
        "  prediction = vect_mat_mul(features_vec, weights_matrix)\n",
        "  return prediction\n",
        "\n",
        "# define features as all game of the season\n",
        "toes = [8.5, 9.5, 9.9, 9.0]\n",
        "wlrec = [0.65, 0.8, 0.8, 0.9]\n",
        "nfans = [1.2, 1.3, 0.5, 1.0]  \n",
        "\n",
        "# input feature corresponds to every entry for the first game of the season.\n",
        "inputs = [toes[0], wlrec[0], nfans[0]]\n",
        "\n",
        "# make prediction\n",
        "pred = neural_network(inputs, weights)\n",
        "print(pred)"
      ],
      "execution_count": 0,
      "outputs": [
        {
          "output_type": "stream",
          "text": [
            "[0.555, 0.9800000000000001, 0.9650000000000001]\n"
          ],
          "name": "stdout"
        }
      ]
    },
    {
      "cell_type": "markdown",
      "metadata": {
        "id": "quOlrQ-t1VSJ",
        "colab_type": "text"
      },
      "source": [
        "### Neural Network using Numpy"
      ]
    },
    {
      "cell_type": "code",
      "metadata": {
        "id": "afI5Xo1l0XDo",
        "colab_type": "code",
        "outputId": "46621d3f-7eee-4778-b0c7-f502261332c9",
        "colab": {
          "base_uri": "https://localhost:8080/",
          "height": 35
        }
      },
      "source": [
        "# define the weight\n",
        "# toes % win # fans\n",
        "weights = np.array([\n",
        "   [0.1, 0.1, -0.3],  # hurt?\n",
        "   [0.1, 0.2, 0.0],   # win?\n",
        "   [0.0, 1.3, 0.1]    # sad?                 \n",
        "])\n",
        "\n",
        "def neural_network(features, weights):\n",
        "  prediction = [features.dot(weights[i]) for i in range(len(features))]\n",
        "  return prediction\n",
        "\n",
        "# define features as all game of the season\n",
        "toes = np.array([8.5, 9.5, 9.9, 9.0])\n",
        "wlrec = np.array([0.65, 0.8, 0.8, 0.9])\n",
        "nfans = np.array([1.2, 1.3, 0.5, 1.0])\n",
        "\n",
        "# Input feature corresponds to every entry for the first game of the season.\n",
        "inputs = np.array([toes[0], wlrec[0], nfans[0]])\n",
        "\n",
        "# make prediction\n",
        "pred = neural_network(inputs, weights)\n",
        "print(pred)"
      ],
      "execution_count": 0,
      "outputs": [
        {
          "output_type": "stream",
          "text": [
            "[0.555, 0.9800000000000001, 0.9650000000000001]\n"
          ],
          "name": "stdout"
        }
      ]
    },
    {
      "cell_type": "markdown",
      "metadata": {
        "id": "QKwkSy2J8J9L",
        "colab_type": "text"
      },
      "source": [
        "## Multiple inputs and outputs: How does it work?\n",
        "\n",
        "**It performs three independent weighted sums of the input\n",
        "to make three predictions.**"
      ]
    },
    {
      "cell_type": "markdown",
      "metadata": {
        "id": "XUBXU2Yo8mD7",
        "colab_type": "text"
      },
      "source": [
        "You can take two perspectives on this architecture: think of it as either three weights coming\n",
        "out of each input node, or three weights going into each output node. For now, I find the\n",
        "latter to be much more beneficial. Think about this neural network as three independent dot\n",
        "products: three independent weighted sums of the input. Each output node takes its own\n",
        "weighted sum of the input and makes a prediction.\n",
        "\n",
        "<img src='https://github.com/rahiakela/img-repo/blob/master/empty-network-with-multiple-input-outputs-1.JPG?raw=1' width='800'/>\n",
        "\n",
        "<img src='https://github.com/rahiakela/img-repo/blob/master/empty-network-with-multiple-input-outputs-2.JPG?raw=1' width='800'/>\n",
        "\n",
        "<img src='https://github.com/rahiakela/img-repo/blob/master/empty-network-with-multiple-input-outputs-3.JPG?raw=1' width='800'/>\n",
        "\n",
        "I want to use this list of vectors and series of weighted sums logic to introduce two new concepts. It’s a list of vectors. A list of vectors is called a\n",
        "matrix. It’s as simple as it sounds. Commonly used functions use matrices. One of these is\n",
        "called vector-matrix multiplication. The series of weighted sums is exactly that: you take a\n",
        "vector and perform a dot product with every row in a matrix.\n",
        "\n",
        "\n",
        "\n"
      ]
    },
    {
      "cell_type": "markdown",
      "metadata": {
        "id": "QY6wPL86_Vu4",
        "colab_type": "text"
      },
      "source": [
        "# Predicting on predictions\n",
        "\n",
        "**Neural networks can be stacked!**"
      ]
    },
    {
      "cell_type": "markdown",
      "metadata": {
        "id": "K134yMeUA32q",
        "colab_type": "text"
      },
      "source": [
        "As the following figures make clear, you can also take the output of one network and feed it\n",
        "as input to another network. This results in two consecutive vector-matrix multiplications.\n",
        "It may not yet be clear why you’d predict this way; but some datasets (such as image\n",
        "classification) contain patterns that are too complex for a single-weight matrix. Later, we’ll\n",
        "discuss the nature of these patterns. For now, it’s sufficient to know this is possible."
      ]
    },
    {
      "cell_type": "markdown",
      "metadata": {
        "id": "P3oaR5ZmCcZA",
        "colab_type": "text"
      },
      "source": [
        "## Numpy way"
      ]
    },
    {
      "cell_type": "markdown",
      "metadata": {
        "id": "6TTDLfspCgGO",
        "colab_type": "text"
      },
      "source": [
        "The following listing shows how you can do the same operations coded in the previous\n",
        "section using a convenient Python library called NumPy. Using libraries like NumPy makes\n",
        "your code faster and easier to read and write."
      ]
    },
    {
      "cell_type": "markdown",
      "metadata": {
        "id": "IYFM_K96G89B",
        "colab_type": "text"
      },
      "source": [
        "### An empty network with multiple inputs and outputs\n",
        "\n",
        "<img src=\"https://github.com/rahiakela/img-repo/blob/master/empty-network-with-multiple-input-outputs-4.JPG?raw=1\" width=\"800\"/>"
      ]
    },
    {
      "cell_type": "code",
      "metadata": {
        "id": "a64pUO2A2l3k",
        "colab_type": "code",
        "colab": {
          "base_uri": "https://localhost:8080/",
          "height": 248
        },
        "outputId": "5ea6d735-1f71-4357-8d29-0ee4cbe44845"
      },
      "source": [
        "import numpy as np\n",
        "\n",
        "# input layer weights\n",
        "# toes % win # fans\n",
        "input_layer_weights = np.array([\n",
        "    [0.1, 0.2, -0.1], # hid[0]\n",
        "    [-0.1,0.1, 0.9],  # hid[1]\n",
        "    [0.1, 0.4, 0.1]   # hid[2]               \n",
        "]).T\n",
        "print(input_layer_weights)\n",
        "print()\n",
        "\n",
        "# hidden layer weights\n",
        "# hid[0] hid[1] hid[2]\n",
        "hidden_layer_weights = np.array([\n",
        "   [0.3, 1.1, -0.3], # hurt?\n",
        "   [0.1, 0.2, 0.0],  # win?\n",
        "   [0.0, 1.3, 0.1]   # sad?                              \n",
        "]).T\n",
        "print(hidden_layer_weights)\n",
        "print()\n",
        "\n",
        "# combine both layers weights\n",
        "weights = [input_layer_weights, hidden_layer_weights]\n",
        "print(weights)\n",
        "\n",
        "def neural_network(features, weights):\n",
        "  # calculating the dot product of input layers weights with input features values\n",
        "  input_layer_x_w_dot_products = features.dot(weights[0])\n",
        "  # calculating the dot product of hidden layers weights with input layer output values\n",
        "  prediction = input_layer_x_w_dot_products.dot(weights[1])\n",
        "  return prediction"
      ],
      "execution_count": 7,
      "outputs": [
        {
          "output_type": "stream",
          "text": [
            "[[ 0.1 -0.1  0.1]\n",
            " [ 0.2  0.1  0.4]\n",
            " [-0.1  0.9  0.1]]\n",
            "\n",
            "[[ 0.3  0.1  0. ]\n",
            " [ 1.1  0.2  1.3]\n",
            " [-0.3  0.   0.1]]\n",
            "\n",
            "[array([[ 0.1, -0.1,  0.1],\n",
            "       [ 0.2,  0.1,  0.4],\n",
            "       [-0.1,  0.9,  0.1]]), array([[ 0.3,  0.1,  0. ],\n",
            "       [ 1.1,  0.2,  1.3],\n",
            "       [-0.3,  0. ,  0.1]])]\n"
          ],
          "name": "stdout"
        }
      ]
    },
    {
      "cell_type": "markdown",
      "metadata": {
        "id": "NlI1mxz_HBzf",
        "colab_type": "text"
      },
      "source": [
        "### Predicting the hidden layer\n",
        "\n",
        "<img src=\"https://github.com/rahiakela/img-repo/blob/master/empty-network-with-multiple-input-outputs-5.JPG?raw=1\" width=\"800\"/>"
      ]
    },
    {
      "cell_type": "code",
      "metadata": {
        "id": "MkOC9j_aCyiT",
        "colab_type": "code",
        "colab": {
          "base_uri": "https://localhost:8080/",
          "height": 35
        },
        "outputId": "4ca6a76b-e180-42d9-8db0-24f914705fb4"
      },
      "source": [
        "toes = np.array([8.5, 9.5, 9.9, 9.0])\n",
        "wlrec = np.array([0.65,0.8, 0.8, 0.9])\n",
        "nfans = np.array([1.2, 1.3, 0.5, 1.0])\n",
        "\n",
        "input_features = np.array([toes[0], wlrec[0], nfans[0]])\n",
        "\n",
        "pred = neural_network(input_features, weights)\n",
        "print(pred)"
      ],
      "execution_count": 8,
      "outputs": [
        {
          "output_type": "stream",
          "text": [
            "[0.2135 0.145  0.5065]\n"
          ],
          "name": "stdout"
        }
      ]
    },
    {
      "cell_type": "markdown",
      "metadata": {
        "id": "BBVbYf8bISRJ",
        "colab_type": "text"
      },
      "source": [
        "### Predicting the output layer\n",
        "\n",
        "#### First game prediction\n",
        "\n",
        "<img src=\"https://github.com/rahiakela/img-repo/blob/master/empty-network-with-multiple-input-outputs-6.JPG?raw=1\" width=\"800\"/>"
      ]
    },
    {
      "cell_type": "markdown",
      "metadata": {
        "id": "W-_1XE09I8M0",
        "colab_type": "text"
      },
      "source": [
        "#### Second game prediction"
      ]
    },
    {
      "cell_type": "code",
      "metadata": {
        "id": "OQ5GlyPfIHBI",
        "colab_type": "code",
        "colab": {
          "base_uri": "https://localhost:8080/",
          "height": 35
        },
        "outputId": "d882cc16-cd7e-44f2-f11b-6e0fbb57691a"
      },
      "source": [
        "input_features = np.array([toes[1], wlrec[1], nfans[1]])\n",
        "\n",
        "pred = neural_network(input_features, weights)\n",
        "print(pred)"
      ],
      "execution_count": 10,
      "outputs": [
        {
          "output_type": "stream",
          "text": [
            "[0.204 0.158 0.53 ]\n"
          ],
          "name": "stdout"
        }
      ]
    },
    {
      "cell_type": "markdown",
      "metadata": {
        "id": "UgsNV_iWI_QW",
        "colab_type": "text"
      },
      "source": [
        "#### Third game prediction"
      ]
    },
    {
      "cell_type": "code",
      "metadata": {
        "id": "SAUlZWK7Iek2",
        "colab_type": "code",
        "colab": {
          "base_uri": "https://localhost:8080/",
          "height": 35
        },
        "outputId": "9aebbe40-718b-4f09-a0cc-3dee92fdc32f"
      },
      "source": [
        "input_features = np.array([toes[2], wlrec[2], nfans[2]])\n",
        "\n",
        "pred = neural_network(input_features, weights)\n",
        "print(pred)"
      ],
      "execution_count": 11,
      "outputs": [
        {
          "output_type": "stream",
          "text": [
            "[-0.584  0.018 -0.462]\n"
          ],
          "name": "stdout"
        }
      ]
    },
    {
      "cell_type": "markdown",
      "metadata": {
        "id": "kv_4mPegJB02",
        "colab_type": "text"
      },
      "source": [
        "#### Fourth game prediction"
      ]
    },
    {
      "cell_type": "code",
      "metadata": {
        "id": "eG1c7yWVInsp",
        "colab_type": "code",
        "colab": {
          "base_uri": "https://localhost:8080/",
          "height": 35
        },
        "outputId": "1f4d76c3-2f6c-4cba-9ce4-296c0229c5a5"
      },
      "source": [
        "input_features = np.array([toes[3], wlrec[3], nfans[3]])\n",
        "\n",
        "pred = neural_network(input_features, weights)\n",
        "print(pred)"
      ],
      "execution_count": 12,
      "outputs": [
        {
          "output_type": "stream",
          "text": [
            "[-0.015  0.116  0.253]\n"
          ],
          "name": "stdout"
        }
      ]
    },
    {
      "cell_type": "markdown",
      "metadata": {
        "id": "daHYRkOVMK5A",
        "colab_type": "text"
      },
      "source": [
        "# A quick primer on NumPy"
      ]
    },
    {
      "cell_type": "markdown",
      "metadata": {
        "id": "1RJllo2_MNNY",
        "colab_type": "text"
      },
      "source": [
        "Note that the processes for creating\n",
        "a vector and a matrix are identical.\n",
        "If you create a matrix with only one\n",
        "row, you’re creating a vector. And, as\n",
        "in mathematics in general, you create\n",
        "a matrix by listing (rows,columns).\n",
        "I say that only so you can remember\n",
        "the order: rows come first, columns\n",
        "come second. \n",
        "\n",
        "Let’s see some operations\n",
        "you can perform on these vectors and\n",
        "matrices:"
      ]
    },
    {
      "cell_type": "code",
      "metadata": {
        "id": "fM9PbGx9IrTH",
        "colab_type": "code",
        "colab": {
          "base_uri": "https://localhost:8080/",
          "height": 159
        },
        "outputId": "204b0db8-87db-42b6-e548-3127fec5f996"
      },
      "source": [
        "a = np.array([0,1,2,3])\n",
        "b = np.array([4,5,6,7])\n",
        "c = np.array([[0,1,2,3], [4,5,6,7]])\n",
        "\n",
        "d = np.zeros((2,4))\n",
        "e = np.random.rand(2,5)\n",
        "\n",
        "print(a)\n",
        "print(b)\n",
        "print(c)\n",
        "print(d)\n",
        "print(e)"
      ],
      "execution_count": 13,
      "outputs": [
        {
          "output_type": "stream",
          "text": [
            "[0 1 2 3]\n",
            "[4 5 6 7]\n",
            "[[0 1 2 3]\n",
            " [4 5 6 7]]\n",
            "[[0. 0. 0. 0.]\n",
            " [0. 0. 0. 0.]]\n",
            "[[0.93184753 0.21462755 0.60319288 0.02026327 0.15013166]\n",
            " [0.09517482 0.59987969 0.34441146 0.09522957 0.80873655]]\n"
          ],
          "name": "stdout"
        }
      ]
    },
    {
      "cell_type": "code",
      "metadata": {
        "id": "iuuqQTtELjji",
        "colab_type": "code",
        "colab": {
          "base_uri": "https://localhost:8080/",
          "height": 35
        },
        "outputId": "4dcfbacf-33e5-4963-a87f-809805712ec4"
      },
      "source": [
        "print(a * 0.1)"
      ],
      "execution_count": 14,
      "outputs": [
        {
          "output_type": "stream",
          "text": [
            "[0.  0.1 0.2 0.3]\n"
          ],
          "name": "stdout"
        }
      ]
    },
    {
      "cell_type": "code",
      "metadata": {
        "id": "C-wU0DfOLqS_",
        "colab_type": "code",
        "colab": {
          "base_uri": "https://localhost:8080/",
          "height": 52
        },
        "outputId": "98f94192-b7bf-4acb-eca4-4a0fb224038c"
      },
      "source": [
        "print(c * 0.2)"
      ],
      "execution_count": 15,
      "outputs": [
        {
          "output_type": "stream",
          "text": [
            "[[0.  0.2 0.4 0.6]\n",
            " [0.8 1.  1.2 1.4]]\n"
          ],
          "name": "stdout"
        }
      ]
    },
    {
      "cell_type": "code",
      "metadata": {
        "id": "YBNy2J8-LvdC",
        "colab_type": "code",
        "colab": {
          "base_uri": "https://localhost:8080/",
          "height": 35
        },
        "outputId": "d77258d6-bf18-4963-91fe-256c4fba4978"
      },
      "source": [
        "print(a * b)"
      ],
      "execution_count": 16,
      "outputs": [
        {
          "output_type": "stream",
          "text": [
            "[ 0  5 12 21]\n"
          ],
          "name": "stdout"
        }
      ]
    },
    {
      "cell_type": "markdown",
      "metadata": {
        "id": "aCxMJUziMxU3",
        "colab_type": "text"
      },
      "source": [
        "Again, the most confusing part is that all of these operations look the same if you don’t\n",
        "know which variables are scalars, vectors, or matrices. When you “read NumPy,” you’re really\n",
        "doing two things: reading the operations and keeping track of the shape (number of rows and\n",
        "columns) of each operation. It will take some practice, but eventually it becomes second nature.\n",
        "\n",
        "Let’s look at a few examples of matrix multiplication in NumPy, noting the input and output shapes\n",
        "of each matrix."
      ]
    },
    {
      "cell_type": "code",
      "metadata": {
        "id": "AftcmDE_L4YK",
        "colab_type": "code",
        "colab": {
          "base_uri": "https://localhost:8080/",
          "height": 35
        },
        "outputId": "60b9c81f-90c5-472a-8bec-281246be6c3e"
      },
      "source": [
        "# Vector of length 4\n",
        "a = np.zeros((1, 4))\n",
        "a"
      ],
      "execution_count": 19,
      "outputs": [
        {
          "output_type": "execute_result",
          "data": {
            "text/plain": [
              "array([[0., 0., 0., 0.]])"
            ]
          },
          "metadata": {
            "tags": []
          },
          "execution_count": 19
        }
      ]
    },
    {
      "cell_type": "code",
      "metadata": {
        "id": "Iy1MgIP0NDEa",
        "colab_type": "code",
        "colab": {
          "base_uri": "https://localhost:8080/",
          "height": 88
        },
        "outputId": "5819be3e-536d-4ca2-9b20-66a1a3ee50fb"
      },
      "source": [
        "# Matrix with 4 rows and 3 columns\n",
        "b = np.zeros((4, 3))\n",
        "b"
      ],
      "execution_count": 24,
      "outputs": [
        {
          "output_type": "execute_result",
          "data": {
            "text/plain": [
              "array([[0., 0., 0.],\n",
              "       [0., 0., 0.],\n",
              "       [0., 0., 0.],\n",
              "       [0., 0., 0.]])"
            ]
          },
          "metadata": {
            "tags": []
          },
          "execution_count": 24
        }
      ]
    },
    {
      "cell_type": "code",
      "metadata": {
        "id": "7Z6jMinVNVNM",
        "colab_type": "code",
        "colab": {
          "base_uri": "https://localhost:8080/",
          "height": 35
        },
        "outputId": "bef8e475-dc29-46fe-c7f2-bc441538406f"
      },
      "source": [
        "c = a.dot(b)\n",
        "c"
      ],
      "execution_count": 25,
      "outputs": [
        {
          "output_type": "execute_result",
          "data": {
            "text/plain": [
              "array([[0., 0., 0.]])"
            ]
          },
          "metadata": {
            "tags": []
          },
          "execution_count": 25
        }
      ]
    },
    {
      "cell_type": "code",
      "metadata": {
        "id": "RYuq-Zd7NZas",
        "colab_type": "code",
        "colab": {
          "base_uri": "https://localhost:8080/",
          "height": 35
        },
        "outputId": "cf4272c3-a6fe-41fc-fbbf-e499a2f1e49f"
      },
      "source": [
        "print(c.shape)"
      ],
      "execution_count": 26,
      "outputs": [
        {
          "output_type": "stream",
          "text": [
            "(1, 3)\n"
          ],
          "name": "stdout"
        }
      ]
    },
    {
      "cell_type": "markdown",
      "metadata": {
        "id": "dHrGcPOUOehY",
        "colab_type": "text"
      },
      "source": [
        "There’s one golden rule when using the dot function: if you put the (rows,cols) description\n",
        "of the two variables you’re “dotting” next to each other, neighboring numbers should always be\n",
        "the same.\n",
        "\n",
        "In terms of variable shape, you can think of it as follows, regardless of whether you’re dotting vectors or matrices: their shape (number of rows and columns) must line up. The columns of the\n",
        "left matrix must equal the rows on the right, such that (a,b).dot(b,c) = (a,c)."
      ]
    },
    {
      "cell_type": "code",
      "metadata": {
        "id": "INTJTNYyNaoN",
        "colab_type": "code",
        "colab": {
          "base_uri": "https://localhost:8080/",
          "height": 52
        },
        "outputId": "e196f24a-1e04-4b3b-d157-a47c12456cc7"
      },
      "source": [
        "# Matrix with 2 rows and 4 columns\n",
        "a = np.zeros((2, 4))\n",
        "a"
      ],
      "execution_count": 27,
      "outputs": [
        {
          "output_type": "execute_result",
          "data": {
            "text/plain": [
              "array([[0., 0., 0., 0.],\n",
              "       [0., 0., 0., 0.]])"
            ]
          },
          "metadata": {
            "tags": []
          },
          "execution_count": 27
        }
      ]
    },
    {
      "cell_type": "code",
      "metadata": {
        "id": "JMwaBef5PBPE",
        "colab_type": "code",
        "colab": {
          "base_uri": "https://localhost:8080/",
          "height": 88
        },
        "outputId": "6fe8b138-7e48-4d9a-be48-12faad6837f6"
      },
      "source": [
        "# Matrix with 4 rows and 3 columns\n",
        "b = np.zeros((4, 3))\n",
        "b"
      ],
      "execution_count": 28,
      "outputs": [
        {
          "output_type": "execute_result",
          "data": {
            "text/plain": [
              "array([[0., 0., 0.],\n",
              "       [0., 0., 0.],\n",
              "       [0., 0., 0.],\n",
              "       [0., 0., 0.]])"
            ]
          },
          "metadata": {
            "tags": []
          },
          "execution_count": 28
        }
      ]
    },
    {
      "cell_type": "code",
      "metadata": {
        "id": "oRJWzLdqPIl8",
        "colab_type": "code",
        "colab": {
          "base_uri": "https://localhost:8080/",
          "height": 52
        },
        "outputId": "f4621332-ae96-427a-cfb8-9c4e02587d62"
      },
      "source": [
        "c = a.dot(b)\n",
        "c"
      ],
      "execution_count": 29,
      "outputs": [
        {
          "output_type": "execute_result",
          "data": {
            "text/plain": [
              "array([[0., 0., 0.],\n",
              "       [0., 0., 0.]])"
            ]
          },
          "metadata": {
            "tags": []
          },
          "execution_count": 29
        }
      ]
    },
    {
      "cell_type": "code",
      "metadata": {
        "id": "Vb8UqiMyPRL_",
        "colab_type": "code",
        "colab": {
          "base_uri": "https://localhost:8080/",
          "height": 35
        },
        "outputId": "5a37bcc7-0e1d-42bd-86f9-03209aa36af7"
      },
      "source": [
        "print(c.shape)"
      ],
      "execution_count": 30,
      "outputs": [
        {
          "output_type": "stream",
          "text": [
            "(2, 3)\n"
          ],
          "name": "stdout"
        }
      ]
    },
    {
      "cell_type": "code",
      "metadata": {
        "id": "kS6a_1ntPUzA",
        "colab_type": "code",
        "colab": {
          "base_uri": "https://localhost:8080/",
          "height": 52
        },
        "outputId": "46d30fe5-0202-49e4-b569-a0fd6e2e5a5e"
      },
      "source": [
        "# Matrix with 2 rows and 1 columns\n",
        "e = np.zeros((2, 1))\n",
        "e"
      ],
      "execution_count": 32,
      "outputs": [
        {
          "output_type": "execute_result",
          "data": {
            "text/plain": [
              "array([[0.],\n",
              "       [0.]])"
            ]
          },
          "metadata": {
            "tags": []
          },
          "execution_count": 32
        }
      ]
    },
    {
      "cell_type": "code",
      "metadata": {
        "id": "NBqvcjBkPaXo",
        "colab_type": "code",
        "colab": {
          "base_uri": "https://localhost:8080/",
          "height": 35
        },
        "outputId": "9262066d-7a7e-46fd-bc00-895e73fa4120"
      },
      "source": [
        "# Matrix with 1 rows and 3 columns\n",
        "f = np.zeros((1, 3))\n",
        "f"
      ],
      "execution_count": 33,
      "outputs": [
        {
          "output_type": "execute_result",
          "data": {
            "text/plain": [
              "array([[0., 0., 0.]])"
            ]
          },
          "metadata": {
            "tags": []
          },
          "execution_count": 33
        }
      ]
    },
    {
      "cell_type": "code",
      "metadata": {
        "id": "u2TJQEXOP2nL",
        "colab_type": "code",
        "colab": {
          "base_uri": "https://localhost:8080/",
          "height": 52
        },
        "outputId": "4bcd2063-f1e8-47ce-f128-05481e61d917"
      },
      "source": [
        "g = e.dot(f)\n",
        "g"
      ],
      "execution_count": 34,
      "outputs": [
        {
          "output_type": "execute_result",
          "data": {
            "text/plain": [
              "array([[0., 0., 0.],\n",
              "       [0., 0., 0.]])"
            ]
          },
          "metadata": {
            "tags": []
          },
          "execution_count": 34
        }
      ]
    },
    {
      "cell_type": "code",
      "metadata": {
        "id": "bbc85oHPP6ky",
        "colab_type": "code",
        "colab": {
          "base_uri": "https://localhost:8080/",
          "height": 35
        },
        "outputId": "f4c80b90-a8cf-4ce6-fbaa-ee43b3c10350"
      },
      "source": [
        "print(g.shape)"
      ],
      "execution_count": 35,
      "outputs": [
        {
          "output_type": "stream",
          "text": [
            "(2, 3)\n"
          ],
          "name": "stdout"
        }
      ]
    },
    {
      "cell_type": "code",
      "metadata": {
        "id": "ZfpfFw7rP94_",
        "colab_type": "code",
        "colab": {
          "base_uri": "https://localhost:8080/",
          "height": 88
        },
        "outputId": "0dc39cf0-f416-492d-d339-46f9e8c5ecf2"
      },
      "source": [
        "# Throws an error; .T flips the rows and columns of a matrix so Matrix with 4 rows and 5 columns\n",
        "h = np.zeros((5, 4)).T   \n",
        "h"
      ],
      "execution_count": 42,
      "outputs": [
        {
          "output_type": "execute_result",
          "data": {
            "text/plain": [
              "array([[0., 0., 0., 0., 0.],\n",
              "       [0., 0., 0., 0., 0.],\n",
              "       [0., 0., 0., 0., 0.],\n",
              "       [0., 0., 0., 0., 0.]])"
            ]
          },
          "metadata": {
            "tags": []
          },
          "execution_count": 42
        }
      ]
    },
    {
      "cell_type": "code",
      "metadata": {
        "id": "NG-am3OtQO2w",
        "colab_type": "code",
        "colab": {
          "base_uri": "https://localhost:8080/",
          "height": 106
        },
        "outputId": "1139999c-8ebb-44e1-9f6f-8f32c0b73b07"
      },
      "source": [
        "# Matrix with 5 rows and 6 columns\n",
        "i = np.zeros((5, 6))\n",
        "i"
      ],
      "execution_count": 45,
      "outputs": [
        {
          "output_type": "execute_result",
          "data": {
            "text/plain": [
              "array([[0., 0., 0., 0., 0., 0.],\n",
              "       [0., 0., 0., 0., 0., 0.],\n",
              "       [0., 0., 0., 0., 0., 0.],\n",
              "       [0., 0., 0., 0., 0., 0.],\n",
              "       [0., 0., 0., 0., 0., 0.]])"
            ]
          },
          "metadata": {
            "tags": []
          },
          "execution_count": 45
        }
      ]
    },
    {
      "cell_type": "code",
      "metadata": {
        "id": "T0DEa0t_Qfh6",
        "colab_type": "code",
        "colab": {
          "base_uri": "https://localhost:8080/",
          "height": 88
        },
        "outputId": "1f54bae6-ab6d-47f6-c567-3f0fa4a7af42"
      },
      "source": [
        "j = h.dot(i)\n",
        "j"
      ],
      "execution_count": 46,
      "outputs": [
        {
          "output_type": "execute_result",
          "data": {
            "text/plain": [
              "array([[0., 0., 0., 0., 0., 0.],\n",
              "       [0., 0., 0., 0., 0., 0.],\n",
              "       [0., 0., 0., 0., 0., 0.],\n",
              "       [0., 0., 0., 0., 0., 0.]])"
            ]
          },
          "metadata": {
            "tags": []
          },
          "execution_count": 46
        }
      ]
    },
    {
      "cell_type": "code",
      "metadata": {
        "id": "LGomQSo-QmTS",
        "colab_type": "code",
        "colab": {
          "base_uri": "https://localhost:8080/",
          "height": 35
        },
        "outputId": "cdeecb0e-3493-420d-c6e6-581fad40870e"
      },
      "source": [
        "print(j.shape)"
      ],
      "execution_count": 47,
      "outputs": [
        {
          "output_type": "stream",
          "text": [
            "(4, 6)\n"
          ],
          "name": "stdout"
        }
      ]
    },
    {
      "cell_type": "code",
      "metadata": {
        "id": "i0b0qUuQQr-1",
        "colab_type": "code",
        "colab": {
          "base_uri": "https://localhost:8080/",
          "height": 221
        },
        "outputId": "1467e84c-f938-4919-e440-3c25329a2cd1"
      },
      "source": [
        "h = np.zeros((5,4))    # Matrix with 5 rows and 4 columns\n",
        "i = np.zeros((5,6))    # Matrix with 5 rows and 6 columns\n",
        "j = h.dot(i)\n",
        "print(j.shape)         # Throws an error"
      ],
      "execution_count": 50,
      "outputs": [
        {
          "output_type": "error",
          "ename": "ValueError",
          "evalue": "ignored",
          "traceback": [
            "\u001b[0;31m---------------------------------------------------------------------------\u001b[0m",
            "\u001b[0;31mValueError\u001b[0m                                Traceback (most recent call last)",
            "\u001b[0;32m<ipython-input-50-7bddd058d409>\u001b[0m in \u001b[0;36m<module>\u001b[0;34m()\u001b[0m\n\u001b[1;32m      1\u001b[0m \u001b[0mh\u001b[0m \u001b[0;34m=\u001b[0m \u001b[0mnp\u001b[0m\u001b[0;34m.\u001b[0m\u001b[0mzeros\u001b[0m\u001b[0;34m(\u001b[0m\u001b[0;34m(\u001b[0m\u001b[0;36m5\u001b[0m\u001b[0;34m,\u001b[0m\u001b[0;36m4\u001b[0m\u001b[0;34m)\u001b[0m\u001b[0;34m)\u001b[0m    \u001b[0;31m# Matrix with 5 rows and 4 columns\u001b[0m\u001b[0;34m\u001b[0m\u001b[0;34m\u001b[0m\u001b[0m\n\u001b[1;32m      2\u001b[0m \u001b[0mi\u001b[0m \u001b[0;34m=\u001b[0m \u001b[0mnp\u001b[0m\u001b[0;34m.\u001b[0m\u001b[0mzeros\u001b[0m\u001b[0;34m(\u001b[0m\u001b[0;34m(\u001b[0m\u001b[0;36m5\u001b[0m\u001b[0;34m,\u001b[0m\u001b[0;36m6\u001b[0m\u001b[0;34m)\u001b[0m\u001b[0;34m)\u001b[0m    \u001b[0;31m# Matrix with 5 rows and 6 columns\u001b[0m\u001b[0;34m\u001b[0m\u001b[0;34m\u001b[0m\u001b[0m\n\u001b[0;32m----> 3\u001b[0;31m \u001b[0mj\u001b[0m \u001b[0;34m=\u001b[0m \u001b[0mh\u001b[0m\u001b[0;34m.\u001b[0m\u001b[0mdot\u001b[0m\u001b[0;34m(\u001b[0m\u001b[0mi\u001b[0m\u001b[0;34m)\u001b[0m\u001b[0;34m\u001b[0m\u001b[0;34m\u001b[0m\u001b[0m\n\u001b[0m\u001b[1;32m      4\u001b[0m \u001b[0mprint\u001b[0m\u001b[0;34m(\u001b[0m\u001b[0mj\u001b[0m\u001b[0;34m.\u001b[0m\u001b[0mshape\u001b[0m\u001b[0;34m)\u001b[0m         \u001b[0;31m# Throws an error\u001b[0m\u001b[0;34m\u001b[0m\u001b[0;34m\u001b[0m\u001b[0m\n",
            "\u001b[0;31mValueError\u001b[0m: shapes (5,4) and (5,6) not aligned: 4 (dim 1) != 5 (dim 0)"
          ]
        }
      ]
    },
    {
      "cell_type": "markdown",
      "metadata": {
        "id": "1iu81ZIvR9YU",
        "colab_type": "text"
      },
      "source": [
        "Everything we’ve done in this guide is a form of what’s called forward propagation, wherein\n",
        "a neural network takes input data and makes a prediction. It’s called this because you’re\n",
        "propagating activations forward through the network. In these examples, activations are all the\n",
        "numbers that are not weights and are unique for every prediction."
      ]
    }
  ]
}