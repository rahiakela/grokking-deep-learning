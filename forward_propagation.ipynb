{
  "nbformat": 4,
  "nbformat_minor": 0,
  "metadata": {
    "colab": {
      "name": "forward-propagation.ipynb",
      "provenance": [],
      "include_colab_link": true
    },
    "kernelspec": {
      "name": "python3",
      "display_name": "Python 3"
    }
  },
  "cells": [
    {
      "cell_type": "markdown",
      "metadata": {
        "id": "view-in-github",
        "colab_type": "text"
      },
      "source": [
        "<a href=\"https://colab.research.google.com/github/rahiakela/grokking-deep-learning/blob/3-forward-propagation/forward_propagation.ipynb\" target=\"_parent\"><img src=\"https://colab.research.google.com/assets/colab-badge.svg\" alt=\"Open In Colab\"/></a>"
      ]
    },
    {
      "cell_type": "markdown",
      "metadata": {
        "id": "acEcRcG456oU",
        "colab_type": "text"
      },
      "source": [
        "# A Simple Neural Network Making a Prediction"
      ]
    },
    {
      "cell_type": "markdown",
      "metadata": {
        "id": "ctYO60Gf6wpF",
        "colab_type": "text"
      },
      "source": [
        "## Step 1: Predict\n",
        "You learned about the paradigm predict, compare, learn. In this guide, we’ll dive deep into the first step: **predict**.\n",
        "\n",
        "you’ll learn more about what these three different parts of a neural network\n",
        "prediction look like under the hood. Let’s start with the first one: the **data**.\n",
        "\n",
        "Later, you’ll find that the number of datapoints you process at a time has a significant\n",
        "impact on what a network looks like. You might be wondering, “How do I choose how\n",
        "many datapoints to propagate at a time?” The answer is based on whether you think the\n",
        "neural network can be accurate with the data you give it.\n",
        "\n",
        "For example, if I’m trying to predict whether there’s a cat in a photo, I definitely need to\n",
        "show my network all the pixels of an image at once. Why? Well, if I sent you only one\n",
        "pixel of an image, could you classify whether the image contained a cat? Me neither!\n",
        "\n",
        "That’s a general rule of thumb, by the way: always present enough information to the\n",
        "network, where “enough information” is defined loosely as how much a human might\n",
        "need to make the same prediction.\n",
        "\n",
        "As it turns out, you can create a network only after\n",
        "you understand the shape of the input and output datasets (for now, shape means “number\n",
        "of columns” or “number of datapoints you’re processing at once”).\n",
        "\n",
        "Now that you know you want to take one input datapoint and output one prediction, you\n",
        "can create a neural network. Because you have only one input datapoint and one output\n",
        "datapoint, you’re going to build a network with a single knob mapping from the input point\n",
        "to the output. (Abstractly, these “knobs” are actually called weights) \n",
        "\n",
        "So, without further ado, here’s your first neural network, with a\n",
        "single weight mapping from the input “# toes” to the output “win?”:"
      ]
    },
    {
      "cell_type": "markdown",
      "metadata": {
        "id": "hykXoOnT8E09",
        "colab_type": "text"
      },
      "source": [
        "### An empty network"
      ]
    },
    {
      "cell_type": "code",
      "metadata": {
        "id": "Z1aj4uNh74_I",
        "colab_type": "code",
        "colab": {}
      },
      "source": [
        "weight = 0.1\n",
        "\n",
        "def neural_network(input, weight):\n",
        "  # Multiplying input by weight\n",
        "  prediction = input * weight\n",
        "  return prediction"
      ],
      "execution_count": 0,
      "outputs": []
    },
    {
      "cell_type": "markdown",
      "metadata": {
        "id": "u5XymlDZ8cK2",
        "colab_type": "text"
      },
      "source": [
        "### Inserting one input datapoint and Depositing the prediction"
      ]
    },
    {
      "cell_type": "code",
      "metadata": {
        "id": "aQ4_80xC8a31",
        "colab_type": "code",
        "colab": {
          "base_uri": "https://localhost:8080/",
          "height": 35
        },
        "outputId": "e675e6cc-e738-4fb2-cfbf-7604524c58c0"
      },
      "source": [
        "number_of_toes = [8.5, 9.5, 10, 9]\n",
        "\n",
        "input = number_of_toes[0]\n",
        "pred = neural_network(input, weight)\n",
        "print(pred)"
      ],
      "execution_count": 8,
      "outputs": [
        {
          "output_type": "stream",
          "text": [
            "0.8500000000000001\n"
          ],
          "name": "stdout"
        }
      ]
    },
    {
      "cell_type": "markdown",
      "metadata": {
        "id": "0tfgbsk494cf",
        "colab_type": "text"
      },
      "source": [
        "You just made your first neural network and used it to predict! Congratulations! It should be 0.85. So what is a neural network? For now, it’s one or\n",
        "more weights that you can multiply by the input data to make a prediction."
      ]
    },
    {
      "cell_type": "markdown",
      "metadata": {
        "id": "O1iJ8ojt-ZHp",
        "colab_type": "text"
      },
      "source": [
        "### How does the network learn?"
      ]
    },
    {
      "cell_type": "markdown",
      "metadata": {
        "id": "eIMVLb70-aTh",
        "colab_type": "text"
      },
      "source": [
        "Trial and error! First, it tries to make a prediction. Then, it sees whether the prediction was too\n",
        "high or too low. \n",
        "\n",
        "Finally, it changes the weight (up or down) to predict more accurately the\n",
        "next time it sees the same input."
      ]
    },
    {
      "cell_type": "markdown",
      "metadata": {
        "id": "clYAua6f_D4A",
        "colab_type": "text"
      },
      "source": [
        "### What does this neural network do?"
      ]
    },
    {
      "cell_type": "markdown",
      "metadata": {
        "id": "RFD2yOC9_Fff",
        "colab_type": "text"
      },
      "source": [
        "#### It multiplies the input by a weight. It “scales” the input by a certain amount."
      ]
    },
    {
      "cell_type": "markdown",
      "metadata": {
        "id": "mJookBSyAUMY",
        "colab_type": "text"
      },
      "source": [
        "In the previous section, you made your first prediction with a neural network. A neural network,\n",
        "in its simplest form, uses the power of multiplication. It takes an input datapoint (in this case,\n",
        "8.5) and multiplies it by the weight. If the weight is 2, then the neural network will double the\n",
        "input. If the weight is 0.01, then the network will divide the input by 100. As you can see, some\n",
        "weight values make the input bigger, and other values make it smaller.\n"
      ]
    },
    {
      "cell_type": "markdown",
      "metadata": {
        "id": "X3HSlq6ZBEcP",
        "colab_type": "text"
      },
      "source": [
        "#### Conclusion"
      ]
    },
    {
      "cell_type": "markdown",
      "metadata": {
        "id": "_5B_TTDFBHBE",
        "colab_type": "text"
      },
      "source": [
        "The interface for a neural network is simple. It accepts an input variable as information and a\n",
        "weight variable as knowledge and outputs a prediction. \n",
        "\n",
        "Every neural network you’ll ever see\n",
        "works this way. It uses the knowledge in the weights to interpret the information in the input\n",
        "data. \n",
        "\n",
        "Later neural networks will accept larger, more complicated input and weight values, but\n",
        "this same underlying premise will always ring true.\n",
        "\n",
        "Notice several things. \n",
        "\n",
        "* First, the neural network does not have access to any information\n",
        "except one instance. \n",
        "* If, after this prediction, you were to feed in number_of_toes[1], the\n",
        "network wouldn’t remember the prediction it made in the last timestep. \n",
        "* A neural network\n",
        "knows only what you feed it as input. It forgets everything else. \n",
        "\n",
        "Later, you’ll learn how to\n",
        "give a neural network a “short-term memory” by feeding in multiple inputs at once.\n",
        "\n",
        "Another way to think about a neural network’s weight value is as a measure of sensitivity\n",
        "between the input of the network and its prediction. \n",
        "* If the weight is very high, then even the\n",
        "tiniest input can create a really large prediction! \n",
        "* If the weight is very small, then even large\n",
        "inputs will make small predictions. \n",
        "\n",
        "This sensitivity is akin to volume. “Turning up the weight”\n",
        "amplifies the prediction relative to the input: weight is a volume knob!\n",
        "\n",
        "Note that neural networks don’t predict just positive numbers—they can also predict negative\n",
        "numbers and even take negative numbers as input. Perhaps you want to predict the probability\n",
        "that people will wear coats today. If the temperature is –10 degrees Celsius, then a negative\n",
        "weight will predict a high probability that people will wear their coats."
      ]
    },
    {
      "cell_type": "markdown",
      "metadata": {
        "id": "Y6d5h-gsFRJO",
        "colab_type": "text"
      },
      "source": [
        "## Making a prediction with multiple inputs"
      ]
    },
    {
      "cell_type": "code",
      "metadata": {
        "id": "bHcvwyx585GQ",
        "colab_type": "code",
        "colab": {}
      },
      "source": [
        ""
      ],
      "execution_count": 0,
      "outputs": []
    }
  ]
}